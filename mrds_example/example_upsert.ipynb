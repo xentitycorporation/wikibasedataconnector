{
 "cells": [
  {
   "attachments": {},
   "cell_type": "markdown",
   "metadata": {},
   "source": [
    "# Insert/update data within the Wikibase"
   ]
  },
  {
   "attachments": {},
   "cell_type": "markdown",
   "metadata": {},
   "source": [
    "### Example entry to wikibase\n",
    "This script will use the newly created `wikibasedataconnector` library to connect to the wikibase.\n",
    "\n",
    "Since this is a wrapper class for the pywikibot library, the connection is established in the same way that was done using pywikibot.\n",
    "\n",
    "Once that has been established, it will take the json template and load a mine entry into it. It will also find the correct item by the mrds id if it already exists in the wikibase."
   ]
  },
  {
   "cell_type": "code",
   "execution_count": 1,
   "metadata": {},
   "outputs": [
    {
     "data": {
      "text/plain": [
       "True"
      ]
     },
     "execution_count": 1,
     "metadata": {},
     "output_type": "execute_result"
    }
   ],
   "source": [
    "import json\n",
    "import sys\n",
    "import os\n",
    "import csv\n",
    "import asyncio\n",
    "from wikibasedataconnector import WBDC\n",
    "from dotenv import load_dotenv\n",
    "\n",
    "load_dotenv()"
   ]
  },
  {
   "attachments": {},
   "cell_type": "markdown",
   "metadata": {},
   "source": [
    "The method of processing the data will be provided in a conf file that can be passed into the `WBDC` bot, that will handle the different situations the conf files provide."
   ]
  },
  {
   "attachments": {},
   "cell_type": "markdown",
   "metadata": {},
   "source": [
    "Lets assume the following\n",
    "* The GeoKB has just been generated and has no data imported into it\n",
    "* The set up and connection to the GeoKB and the WBDC bot has been established\n",
    "\n",
    "First we load the property data. This data can be found at `data/property.csv` within the repo."
   ]
  },
  {
   "cell_type": "code",
   "execution_count": 2,
   "metadata": {},
   "outputs": [],
   "source": [
    "conf_filepath = '../../scripts/conf'\n",
    "site_name = 'mrdata'"
   ]
  },
  {
   "cell_type": "code",
   "execution_count": 3,
   "metadata": {},
   "outputs": [],
   "source": [
    "PATH = f'{conf_filepath}/import_properties_add.json'\n",
    "with open(PATH, 'r', encoding='utf-8') as f:\n",
    "        mapping_config = json.load(f)"
   ]
  },
  {
   "attachments": {},
   "cell_type": "markdown",
   "metadata": {},
   "source": [
    "With the conf file mapping the indeces found within the csv file, the properties can now be loaded."
   ]
  },
  {
   "cell_type": "code",
   "execution_count": 4,
   "metadata": {},
   "outputs": [
    {
     "name": "stdout",
     "output_type": "stream",
     "text": [
      "{'entity': {'type': 'property', 'datatype': 'wikibase-item', 'id': 'P1', 'labels': {'en': {'language': 'en', 'value': 'instance of'}}, 'descriptions': {'en': {'language': 'en', 'value': 'this item is a class of that item;type of the item'}}, 'aliases': {}, 'claims': {}, 'lastrevid': 2}, 'success': 1}\n",
      "{'entity': {'type': 'property', 'datatype': 'wikibase-item', 'id': 'P2', 'labels': {'en': {'language': 'en', 'value': 'subclass of'}}, 'descriptions': {'en': {'language': 'en', 'value': 'this item is a subclass (subset) of that item'}}, 'aliases': {}, 'claims': {}, 'lastrevid': 3}, 'success': 1}\n",
      "{'entity': {'type': 'property', 'datatype': 'globe-coordinate', 'id': 'P3', 'labels': {'en': {'language': 'en', 'value': 'coordinate location'}}, 'descriptions': {'en': {'language': 'en', 'value': \"a geographic point indicating the location of an entity on the earth's surface\"}}, 'aliases': {}, 'claims': {}, 'lastrevid': 4}, 'success': 1}\n",
      "{'entity': {'type': 'property', 'datatype': 'wikibase-item', 'id': 'P4', 'labels': {'en': {'language': 'en', 'value': 'reference item'}}, 'descriptions': {'en': {'language': 'en', 'value': 'a knowledgebase item that serves as the source reference for a statement'}}, 'aliases': {}, 'claims': {}, 'lastrevid': 5}, 'success': 1}\n",
      "{'entity': {'type': 'property', 'datatype': 'url', 'id': 'P5', 'labels': {'en': {'language': 'en', 'value': 'reference url'}}, 'descriptions': {'en': {'language': 'en', 'value': 'a web link provided as the source reference for a statement;used when no viable item is available'}}, 'aliases': {}, 'claims': {}, 'lastrevid': 6}, 'success': 1}\n",
      "{'entity': {'type': 'property', 'datatype': 'string', 'id': 'P6', 'labels': {'en': {'language': 'en', 'value': 'reference statement'}}, 'descriptions': {'en': {'language': 'en', 'value': 'a short statement about the source for a claiml;used when no viable item or URL is available'}}, 'aliases': {}, 'claims': {}, 'lastrevid': 7}, 'success': 1}\n",
      "{'entity': {'type': 'property', 'datatype': 'time', 'id': 'P7', 'labels': {'en': {'language': 'en', 'value': 'publication date'}}, 'descriptions': {'en': {'language': 'en', 'value': 'date or point in time when a work represented by a knowledgebase item was first published or released'}}, 'aliases': {}, 'claims': {}, 'lastrevid': 8}, 'success': 1}\n",
      "{'entity': {'type': 'property', 'datatype': 'wikibase-item', 'id': 'P8', 'labels': {'en': {'language': 'en', 'value': 'subject matter'}}, 'descriptions': {'en': {'language': 'en', 'value': 'topic or subject addressed by the item'}}, 'aliases': {}, 'claims': {}, 'lastrevid': 9}, 'success': 1}\n",
      "{'entity': {'type': 'property', 'datatype': 'quantity', 'id': 'P9', 'labels': {'en': {'language': 'en', 'value': 'ranking'}}, 'descriptions': {'en': {'language': 'en', 'value': 'used as statement qualifier indicating relative ranking'}}, 'aliases': {}, 'claims': {}, 'lastrevid': 10}, 'success': 1}\n",
      "{'entity': {'type': 'property', 'datatype': 'wikibase-item', 'id': 'P10', 'labels': {'en': {'language': 'en', 'value': 'country'}}, 'descriptions': {}, 'aliases': {}, 'claims': {}, 'lastrevid': 11}, 'success': 1}\n",
      "{'entity': {'type': 'property', 'datatype': 'wikibase-item', 'id': 'P11', 'labels': {'en': {'language': 'en', 'value': 'state'}}, 'descriptions': {}, 'aliases': {}, 'claims': {}, 'lastrevid': 12}, 'success': 1}\n",
      "{'entity': {'type': 'property', 'datatype': 'globe-coordinate', 'id': 'P12', 'labels': {'en': {'language': 'en', 'value': 'coordinates'}}, 'descriptions': {}, 'aliases': {}, 'claims': {}, 'lastrevid': 13}, 'success': 1}\n",
      "{'entity': {'type': 'property', 'datatype': 'string', 'id': 'P13', 'labels': {'en': {'language': 'en', 'value': 'mrds ID'}}, 'descriptions': {'en': {'language': 'en', 'value': 'Unique identifier given within the MRDS dataset'}}, 'aliases': {}, 'claims': {}, 'lastrevid': 14}, 'success': 1}\n",
      "{'entity': {'type': 'property', 'datatype': 'string', 'id': 'P14', 'labels': {'en': {'language': 'en', 'value': 'deposit ID'}}, 'descriptions': {'en': {'language': 'en', 'value': 'Unique identifier provided by the MRDS dataset'}}, 'aliases': {}, 'claims': {}, 'lastrevid': 15}, 'success': 1}\n"
     ]
    }
   ],
   "source": [
    "bot = WBDC(site_name)\n",
    "bot.set_mapping_config(mapping_config)\n",
    "\n",
    "FILEPATH = '../../data/properties.csv'\n",
    "with open(FILEPATH, 'r', encoding='utf-8') as file:\n",
    "    csv_file = csv.reader(file)\n",
    "    next(csv_file)\n",
    "    await asyncio.gather(*[bot.process(row) for row in csv_file])"
   ]
  },
  {
   "attachments": {},
   "cell_type": "markdown",
   "metadata": {},
   "source": [
    "Once that has been processed, we can load the prerequisite items such as country, states and subclass information needed (this is found at `data/items/csv`)."
   ]
  },
  {
   "cell_type": "code",
   "execution_count": 5,
   "metadata": {},
   "outputs": [],
   "source": [
    "PATH = f'{conf_filepath}/import_items_add.json'\n",
    "with open(PATH, 'r', encoding='utf-8') as f:\n",
    "        mapping_config = json.load(f)"
   ]
  },
  {
   "cell_type": "code",
   "execution_count": 7,
   "metadata": {},
   "outputs": [],
   "source": [
    "bot = WBDC(site_name)\n",
    "conf = {\n",
    "    'uniqueIDProp': 'P13',\n",
    "    'SPARQL_ENDPOINT': os.getenv('SPARQL_ENDPOINT')\n",
    "}\n",
    "bot.set_config(conf)\n",
    "bot.set_mapping_config(mapping_config)\n",
    "\n",
    "FILEPATH = '../../data/items.csv'\n",
    "with open(FILEPATH, 'r', encoding='utf-8') as file:\n",
    "    csv_file = csv.reader(file)\n",
    "    next(csv_file)\n",
    "    await asyncio.gather(*[bot.process(row) for row in csv_file])"
   ]
  },
  {
   "attachments": {},
   "cell_type": "markdown",
   "metadata": {},
   "source": [
    "Now that we have all the prior properties and items needed, all we need to do is process the mines data. For now a subset of MRDS will be used to demonstrate this. \n",
    "\n",
    "The way the data is processed is by indexing the entry of the necessary fields. This has the advantage of having variable data entries, and the fact that various data files can be read and processed. This will all be given within each provided conf file, which can be generated beforehand and passed in to the WBDC bot."
   ]
  },
  {
   "cell_type": "code",
   "execution_count": 8,
   "metadata": {},
   "outputs": [],
   "source": [
    "PATH = f'{conf_filepath}/import_mrds_conf.json'\n",
    "with open(PATH, 'r', encoding='utf-8') as f:\n",
    "        mapping_config = json.load(f)"
   ]
  },
  {
   "cell_type": "code",
   "execution_count": 9,
   "metadata": {},
   "outputs": [
    {
     "name": "stderr",
     "output_type": "stream",
     "text": [
      "WARNING: API warning (wbsetclaim) of unknown format: {'messages': [{'name': 'wikibase-conflict-patched', 'parameters': [], 'html': {'*': 'Your edit was patched into the latest version.'}, 'type': 'warning'}]}\n",
      "WARNING: API warning (wbsetclaim) of unknown format: {'messages': [{'name': 'wikibase-conflict-patched', 'parameters': [], 'html': {'*': 'Your edit was patched into the latest version.'}, 'type': 'warning'}]}\n",
      "WARNING: API warning (wbsetclaim) of unknown format: {'messages': [{'name': 'wikibase-conflict-patched', 'parameters': [], 'html': {'*': 'Your edit was patched into the latest version.'}, 'type': 'warning'}]}\n",
      "WARNING: API warning (wbsetclaim) of unknown format: {'messages': [{'name': 'wikibase-conflict-patched', 'parameters': [], 'html': {'*': 'Your edit was patched into the latest version.'}, 'type': 'warning'}]}\n",
      "WARNING: API warning (wbsetclaim) of unknown format: {'messages': [{'name': 'wikibase-conflict-patched', 'parameters': [], 'html': {'*': 'Your edit was patched into the latest version.'}, 'type': 'warning'}]}\n",
      "WARNING: API warning (wbsetclaim) of unknown format: {'messages': [{'name': 'wikibase-conflict-patched', 'parameters': [], 'html': {'*': 'Your edit was patched into the latest version.'}, 'type': 'warning'}]}\n",
      "WARNING: API warning (wbsetclaim) of unknown format: {'messages': [{'name': 'wikibase-conflict-patched', 'parameters': [], 'html': {'*': 'Your edit was patched into the latest version.'}, 'type': 'warning'}]}\n",
      "WARNING: API warning (wbsetclaim) of unknown format: {'messages': [{'name': 'wikibase-conflict-patched', 'parameters': [], 'html': {'*': 'Your edit was patched into the latest version.'}, 'type': 'warning'}]}\n",
      "WARNING: API warning (wbsetclaim) of unknown format: {'messages': [{'name': 'wikibase-conflict-patched', 'parameters': [], 'html': {'*': 'Your edit was patched into the latest version.'}, 'type': 'warning'}]}\n",
      "WARNING: API warning (wbsetclaim) of unknown format: {'messages': [{'name': 'wikibase-conflict-patched', 'parameters': [], 'html': {'*': 'Your edit was patched into the latest version.'}, 'type': 'warning'}]}\n",
      "WARNING: API warning (wbsetclaim) of unknown format: {'messages': [{'name': 'wikibase-conflict-patched', 'parameters': [], 'html': {'*': 'Your edit was patched into the latest version.'}, 'type': 'warning'}]}\n",
      "WARNING: API warning (wbsetclaim) of unknown format: {'messages': [{'name': 'wikibase-conflict-patched', 'parameters': [], 'html': {'*': 'Your edit was patched into the latest version.'}, 'type': 'warning'}]}\n",
      "WARNING: API warning (wbsetclaim) of unknown format: {'messages': [{'name': 'wikibase-conflict-patched', 'parameters': [], 'html': {'*': 'Your edit was patched into the latest version.'}, 'type': 'warning'}]}\n",
      "WARNING: API warning (wbsetclaim) of unknown format: {'messages': [{'name': 'wikibase-conflict-patched', 'parameters': [], 'html': {'*': 'Your edit was patched into the latest version.'}, 'type': 'warning'}]}\n",
      "WARNING: API warning (wbsetclaim) of unknown format: {'messages': [{'name': 'wikibase-conflict-patched', 'parameters': [], 'html': {'*': 'Your edit was patched into the latest version.'}, 'type': 'warning'}]}\n",
      "WARNING: API warning (wbsetclaim) of unknown format: {'messages': [{'name': 'wikibase-conflict-patched', 'parameters': [], 'html': {'*': 'Your edit was patched into the latest version.'}, 'type': 'warning'}]}\n",
      "WARNING: API warning (wbsetclaim) of unknown format: {'messages': [{'name': 'wikibase-conflict-patched', 'parameters': [], 'html': {'*': 'Your edit was patched into the latest version.'}, 'type': 'warning'}]}\n",
      "WARNING: API warning (wbsetclaim) of unknown format: {'messages': [{'name': 'wikibase-conflict-patched', 'parameters': [], 'html': {'*': 'Your edit was patched into the latest version.'}, 'type': 'warning'}]}\n",
      "WARNING: API warning (wbsetclaim) of unknown format: {'messages': [{'name': 'wikibase-conflict-patched', 'parameters': [], 'html': {'*': 'Your edit was patched into the latest version.'}, 'type': 'warning'}]}\n",
      "WARNING: API warning (wbsetclaim) of unknown format: {'messages': [{'name': 'wikibase-conflict-patched', 'parameters': [], 'html': {'*': 'Your edit was patched into the latest version.'}, 'type': 'warning'}]}\n",
      "WARNING: API warning (wbsetclaim) of unknown format: {'messages': [{'name': 'wikibase-conflict-patched', 'parameters': [], 'html': {'*': 'Your edit was patched into the latest version.'}, 'type': 'warning'}]}\n",
      "WARNING: API warning (wbsetclaim) of unknown format: {'messages': [{'name': 'wikibase-conflict-patched', 'parameters': [], 'html': {'*': 'Your edit was patched into the latest version.'}, 'type': 'warning'}]}\n",
      "WARNING: API warning (wbsetclaim) of unknown format: {'messages': [{'name': 'wikibase-conflict-patched', 'parameters': [], 'html': {'*': 'Your edit was patched into the latest version.'}, 'type': 'warning'}]}\n",
      "WARNING: API warning (wbsetclaim) of unknown format: {'messages': [{'name': 'wikibase-conflict-patched', 'parameters': [], 'html': {'*': 'Your edit was patched into the latest version.'}, 'type': 'warning'}]}\n",
      "WARNING: API warning (wbsetclaim) of unknown format: {'messages': [{'name': 'wikibase-conflict-patched', 'parameters': [], 'html': {'*': 'Your edit was patched into the latest version.'}, 'type': 'warning'}]}\n",
      "WARNING: API warning (wbsetclaim) of unknown format: {'messages': [{'name': 'wikibase-conflict-patched', 'parameters': [], 'html': {'*': 'Your edit was patched into the latest version.'}, 'type': 'warning'}]}\n",
      "WARNING: API warning (wbsetclaim) of unknown format: {'messages': [{'name': 'wikibase-conflict-patched', 'parameters': [], 'html': {'*': 'Your edit was patched into the latest version.'}, 'type': 'warning'}]}\n",
      "WARNING: API warning (wbsetclaim) of unknown format: {'messages': [{'name': 'wikibase-conflict-patched', 'parameters': [], 'html': {'*': 'Your edit was patched into the latest version.'}, 'type': 'warning'}]}\n",
      "WARNING: API warning (wbsetclaim) of unknown format: {'messages': [{'name': 'wikibase-conflict-patched', 'parameters': [], 'html': {'*': 'Your edit was patched into the latest version.'}, 'type': 'warning'}]}\n",
      "WARNING: API warning (wbsetclaim) of unknown format: {'messages': [{'name': 'wikibase-conflict-patched', 'parameters': [], 'html': {'*': 'Your edit was patched into the latest version.'}, 'type': 'warning'}]}\n",
      "WARNING: API warning (wbsetclaim) of unknown format: {'messages': [{'name': 'wikibase-conflict-patched', 'parameters': [], 'html': {'*': 'Your edit was patched into the latest version.'}, 'type': 'warning'}]}\n",
      "WARNING: API warning (wbsetclaim) of unknown format: {'messages': [{'name': 'wikibase-conflict-patched', 'parameters': [], 'html': {'*': 'Your edit was patched into the latest version.'}, 'type': 'warning'}]}\n",
      "WARNING: API warning (wbsetclaim) of unknown format: {'messages': [{'name': 'wikibase-conflict-patched', 'parameters': [], 'html': {'*': 'Your edit was patched into the latest version.'}, 'type': 'warning'}]}\n",
      "WARNING: API warning (wbsetclaim) of unknown format: {'messages': [{'name': 'wikibase-conflict-patched', 'parameters': [], 'html': {'*': 'Your edit was patched into the latest version.'}, 'type': 'warning'}]}\n",
      "WARNING: API warning (wbsetclaim) of unknown format: {'messages': [{'name': 'wikibase-conflict-patched', 'parameters': [], 'html': {'*': 'Your edit was patched into the latest version.'}, 'type': 'warning'}]}\n",
      "WARNING: API warning (wbsetclaim) of unknown format: {'messages': [{'name': 'wikibase-conflict-patched', 'parameters': [], 'html': {'*': 'Your edit was patched into the latest version.'}, 'type': 'warning'}]}\n",
      "WARNING: API warning (wbsetclaim) of unknown format: {'messages': [{'name': 'wikibase-conflict-patched', 'parameters': [], 'html': {'*': 'Your edit was patched into the latest version.'}, 'type': 'warning'}]}\n",
      "WARNING: API warning (wbsetclaim) of unknown format: {'messages': [{'name': 'wikibase-conflict-patched', 'parameters': [], 'html': {'*': 'Your edit was patched into the latest version.'}, 'type': 'warning'}]}\n",
      "WARNING: API warning (wbsetclaim) of unknown format: {'messages': [{'name': 'wikibase-conflict-patched', 'parameters': [], 'html': {'*': 'Your edit was patched into the latest version.'}, 'type': 'warning'}]}\n",
      "WARNING: API warning (wbsetclaim) of unknown format: {'messages': [{'name': 'wikibase-conflict-patched', 'parameters': [], 'html': {'*': 'Your edit was patched into the latest version.'}, 'type': 'warning'}]}\n",
      "WARNING: API warning (wbsetclaim) of unknown format: {'messages': [{'name': 'wikibase-conflict-patched', 'parameters': [], 'html': {'*': 'Your edit was patched into the latest version.'}, 'type': 'warning'}]}\n",
      "WARNING: API warning (wbsetclaim) of unknown format: {'messages': [{'name': 'wikibase-conflict-patched', 'parameters': [], 'html': {'*': 'Your edit was patched into the latest version.'}, 'type': 'warning'}]}\n",
      "WARNING: API warning (wbsetclaim) of unknown format: {'messages': [{'name': 'wikibase-conflict-patched', 'parameters': [], 'html': {'*': 'Your edit was patched into the latest version.'}, 'type': 'warning'}]}\n",
      "WARNING: API warning (wbsetclaim) of unknown format: {'messages': [{'name': 'wikibase-conflict-patched', 'parameters': [], 'html': {'*': 'Your edit was patched into the latest version.'}, 'type': 'warning'}]}\n",
      "WARNING: API warning (wbsetclaim) of unknown format: {'messages': [{'name': 'wikibase-conflict-patched', 'parameters': [], 'html': {'*': 'Your edit was patched into the latest version.'}, 'type': 'warning'}]}\n",
      "WARNING: API warning (wbsetclaim) of unknown format: {'messages': [{'name': 'wikibase-conflict-patched', 'parameters': [], 'html': {'*': 'Your edit was patched into the latest version.'}, 'type': 'warning'}]}\n",
      "WARNING: API warning (wbsetclaim) of unknown format: {'messages': [{'name': 'wikibase-conflict-patched', 'parameters': [], 'html': {'*': 'Your edit was patched into the latest version.'}, 'type': 'warning'}]}\n",
      "WARNING: API warning (wbsetclaim) of unknown format: {'messages': [{'name': 'wikibase-conflict-patched', 'parameters': [], 'html': {'*': 'Your edit was patched into the latest version.'}, 'type': 'warning'}]}\n",
      "WARNING: API warning (wbsetclaim) of unknown format: {'messages': [{'name': 'wikibase-conflict-patched', 'parameters': [], 'html': {'*': 'Your edit was patched into the latest version.'}, 'type': 'warning'}]}\n",
      "WARNING: API warning (wbsetclaim) of unknown format: {'messages': [{'name': 'wikibase-conflict-patched', 'parameters': [], 'html': {'*': 'Your edit was patched into the latest version.'}, 'type': 'warning'}]}\n",
      "WARNING: API warning (wbsetclaim) of unknown format: {'messages': [{'name': 'wikibase-conflict-patched', 'parameters': [], 'html': {'*': 'Your edit was patched into the latest version.'}, 'type': 'warning'}]}\n",
      "WARNING: API warning (wbsetclaim) of unknown format: {'messages': [{'name': 'wikibase-conflict-patched', 'parameters': [], 'html': {'*': 'Your edit was patched into the latest version.'}, 'type': 'warning'}]}\n",
      "WARNING: API warning (wbsetclaim) of unknown format: {'messages': [{'name': 'wikibase-conflict-patched', 'parameters': [], 'html': {'*': 'Your edit was patched into the latest version.'}, 'type': 'warning'}]}\n",
      "WARNING: API warning (wbsetclaim) of unknown format: {'messages': [{'name': 'wikibase-conflict-patched', 'parameters': [], 'html': {'*': 'Your edit was patched into the latest version.'}, 'type': 'warning'}]}\n",
      "WARNING: API warning (wbsetclaim) of unknown format: {'messages': [{'name': 'wikibase-conflict-patched', 'parameters': [], 'html': {'*': 'Your edit was patched into the latest version.'}, 'type': 'warning'}]}\n",
      "WARNING: API warning (wbsetclaim) of unknown format: {'messages': [{'name': 'wikibase-conflict-patched', 'parameters': [], 'html': {'*': 'Your edit was patched into the latest version.'}, 'type': 'warning'}]}\n",
      "WARNING: API warning (wbsetclaim) of unknown format: {'messages': [{'name': 'wikibase-conflict-patched', 'parameters': [], 'html': {'*': 'Your edit was patched into the latest version.'}, 'type': 'warning'}]}\n",
      "WARNING: API warning (wbsetclaim) of unknown format: {'messages': [{'name': 'wikibase-conflict-patched', 'parameters': [], 'html': {'*': 'Your edit was patched into the latest version.'}, 'type': 'warning'}]}\n",
      "WARNING: API warning (wbsetclaim) of unknown format: {'messages': [{'name': 'wikibase-conflict-patched', 'parameters': [], 'html': {'*': 'Your edit was patched into the latest version.'}, 'type': 'warning'}]}\n",
      "WARNING: API warning (wbsetclaim) of unknown format: {'messages': [{'name': 'wikibase-conflict-patched', 'parameters': [], 'html': {'*': 'Your edit was patched into the latest version.'}, 'type': 'warning'}]}\n"
     ]
    }
   ],
   "source": [
    "bot = WBDC(site_name)\n",
    "conf = {\n",
    "    'uniqueIDProp': 'P13',\n",
    "    'SPARQL_ENDPOINT': os.getenv('SPARQL_ENDPOINT')\n",
    "}\n",
    "bot.set_config(conf)\n",
    "bot.set_mapping_config(mapping_config)\n",
    "\n",
    "FILEPATH = '../../data/mrds_subset.csv'\n",
    "with open(FILEPATH, 'r', encoding='utf-8') as file:\n",
    "    csv_file = csv.reader(file)\n",
    "    next(csv_file)\n",
    "    await asyncio.gather(*[bot.process(row) for row in csv_file])"
   ]
  },
  {
   "attachments": {},
   "cell_type": "markdown",
   "metadata": {},
   "source": [
    "### Reading From and API Endpoint"
   ]
  },
  {
   "attachments": {},
   "cell_type": "markdown",
   "metadata": {},
   "source": [
    "Another method to retrieve data is from an API which can then be processed into the wikibase. To show this, the counties dataset found at `https://data.colorado.gov/resource/ahgn-r8s5` will be used."
   ]
  },
  {
   "cell_type": "code",
   "execution_count": 10,
   "metadata": {},
   "outputs": [],
   "source": [
    "import requests"
   ]
  },
  {
   "cell_type": "code",
   "execution_count": 11,
   "metadata": {},
   "outputs": [],
   "source": [
    "req = requests.get('https://data.colorado.gov/resource/ahgn-r8s5.json')\n",
    "res = req.json()"
   ]
  },
  {
   "attachments": {},
   "cell_type": "markdown",
   "metadata": {},
   "source": [
    "Because there isn't any metadata found in the dataset explaining what the fields are, a workaround was created. Each field value that is not `county` will be added in as a property to use for mapping statements (for now `the_geom` field will be excluded since it uses a shape datatype, which makes the example more complicated than needed)."
   ]
  },
  {
   "cell_type": "code",
   "execution_count": 12,
   "metadata": {},
   "outputs": [],
   "source": [
    "keys = list(res[0].keys())\n",
    "keys = [key for key in keys if key not in ('county', 'the_geom')]\n",
    "description = ['test description' for i in keys]\n",
    "datatypes = []\n",
    "for key in keys:\n",
    "    if key == 'the_geom':\n",
    "        datatypes.append('geo-shape')\n",
    "    else:\n",
    "        datatypes.append('string')\n",
    "\n",
    "counties_props = list(zip(keys,description,datatypes))"
   ]
  },
  {
   "cell_type": "code",
   "execution_count": 13,
   "metadata": {},
   "outputs": [
    {
     "data": {
      "text/plain": [
       "[('co_fips', 'test description', 'string'),\n",
       " ('pop_2010', 'test description', 'string'),\n",
       " ('househo_20', 'test description', 'string'),\n",
       " ('shape_star', 'test description', 'string'),\n",
       " ('shape_stle', 'test description', 'string'),\n",
       " ('shape_st_1', 'test description', 'string'),\n",
       " ('shape_st_2', 'test description', 'string')]"
      ]
     },
     "execution_count": 13,
     "metadata": {},
     "output_type": "execute_result"
    }
   ],
   "source": [
    "counties_props"
   ]
  },
  {
   "cell_type": "code",
   "execution_count": 14,
   "metadata": {},
   "outputs": [],
   "source": [
    "PATH = f'{conf_filepath}/import_counties_properties.json'\n",
    "with open(PATH, 'r', encoding='utf-8') as f:\n",
    "        mapping_config = json.load(f)"
   ]
  },
  {
   "cell_type": "code",
   "execution_count": 15,
   "metadata": {},
   "outputs": [
    {
     "name": "stdout",
     "output_type": "stream",
     "text": [
      "{'entity': {'type': 'property', 'datatype': 'string', 'id': 'P15', 'labels': {'en': {'language': 'en', 'value': 'co_fips'}}, 'descriptions': {'en': {'language': 'en', 'value': 'test description'}}, 'aliases': {}, 'claims': {}, 'lastrevid': 169}, 'success': 1}\n",
      "{'entity': {'type': 'property', 'datatype': 'string', 'id': 'P16', 'labels': {'en': {'language': 'en', 'value': 'pop_2010'}}, 'descriptions': {'en': {'language': 'en', 'value': 'test description'}}, 'aliases': {}, 'claims': {}, 'lastrevid': 170}, 'success': 1}\n",
      "{'entity': {'type': 'property', 'datatype': 'string', 'id': 'P17', 'labels': {'en': {'language': 'en', 'value': 'househo_20'}}, 'descriptions': {'en': {'language': 'en', 'value': 'test description'}}, 'aliases': {}, 'claims': {}, 'lastrevid': 171}, 'success': 1}\n",
      "{'entity': {'type': 'property', 'datatype': 'string', 'id': 'P18', 'labels': {'en': {'language': 'en', 'value': 'shape_star'}}, 'descriptions': {'en': {'language': 'en', 'value': 'test description'}}, 'aliases': {}, 'claims': {}, 'lastrevid': 172}, 'success': 1}\n",
      "{'entity': {'type': 'property', 'datatype': 'string', 'id': 'P19', 'labels': {'en': {'language': 'en', 'value': 'shape_stle'}}, 'descriptions': {'en': {'language': 'en', 'value': 'test description'}}, 'aliases': {}, 'claims': {}, 'lastrevid': 173}, 'success': 1}\n",
      "{'entity': {'type': 'property', 'datatype': 'string', 'id': 'P20', 'labels': {'en': {'language': 'en', 'value': 'shape_st_1'}}, 'descriptions': {'en': {'language': 'en', 'value': 'test description'}}, 'aliases': {}, 'claims': {}, 'lastrevid': 174}, 'success': 1}\n",
      "{'entity': {'type': 'property', 'datatype': 'string', 'id': 'P21', 'labels': {'en': {'language': 'en', 'value': 'shape_st_2'}}, 'descriptions': {'en': {'language': 'en', 'value': 'test description'}}, 'aliases': {}, 'claims': {}, 'lastrevid': 175}, 'success': 1}\n"
     ]
    },
    {
     "data": {
      "text/plain": [
       "[None, None, None, None, None, None, None]"
      ]
     },
     "execution_count": 15,
     "metadata": {},
     "output_type": "execute_result"
    }
   ],
   "source": [
    "bot = WBDC(site_name)\n",
    "bot.set_mapping_config(mapping_config)\n",
    "\n",
    "await asyncio.gather(*[bot.process(row) for row in counties_props])"
   ]
  },
  {
   "attachments": {},
   "cell_type": "markdown",
   "metadata": {},
   "source": [
    "Now that the fields are added as properties we can load the county data using the conf file. \n",
    "\n",
    "Notice that the conf file uses the field names as indeces. This is because indexing a dictionary with the key and indexing an array by an integer is the same syntax in Python."
   ]
  },
  {
   "cell_type": "code",
   "execution_count": 18,
   "metadata": {},
   "outputs": [],
   "source": [
    "PATH = f'{conf_filepath}/import_counties.json'\n",
    "with open(PATH, 'r', encoding='utf-8') as f:\n",
    "        mapping_config = json.load(f)"
   ]
  },
  {
   "cell_type": "code",
   "execution_count": 19,
   "metadata": {},
   "outputs": [
    {
     "name": "stderr",
     "output_type": "stream",
     "text": [
      "WARNING: API warning (wbsetclaim) of unknown format: {'messages': [{'name': 'wikibase-conflict-patched', 'parameters': [], 'html': {'*': 'Your edit was patched into the latest version.'}, 'type': 'warning'}]}\n",
      "WARNING: API warning (wbsetclaim) of unknown format: {'messages': [{'name': 'wikibase-conflict-patched', 'parameters': [], 'html': {'*': 'Your edit was patched into the latest version.'}, 'type': 'warning'}]}\n",
      "WARNING: API warning (wbsetclaim) of unknown format: {'messages': [{'name': 'wikibase-conflict-patched', 'parameters': [], 'html': {'*': 'Your edit was patched into the latest version.'}, 'type': 'warning'}]}\n",
      "WARNING: API warning (wbsetclaim) of unknown format: {'messages': [{'name': 'wikibase-conflict-patched', 'parameters': [], 'html': {'*': 'Your edit was patched into the latest version.'}, 'type': 'warning'}]}\n",
      "WARNING: API warning (wbsetclaim) of unknown format: {'messages': [{'name': 'wikibase-conflict-patched', 'parameters': [], 'html': {'*': 'Your edit was patched into the latest version.'}, 'type': 'warning'}]}\n",
      "WARNING: API warning (wbsetclaim) of unknown format: {'messages': [{'name': 'wikibase-conflict-patched', 'parameters': [], 'html': {'*': 'Your edit was patched into the latest version.'}, 'type': 'warning'}]}\n",
      "WARNING: API warning (wbsetclaim) of unknown format: {'messages': [{'name': 'wikibase-conflict-patched', 'parameters': [], 'html': {'*': 'Your edit was patched into the latest version.'}, 'type': 'warning'}]}\n",
      "WARNING: API warning (wbsetclaim) of unknown format: {'messages': [{'name': 'wikibase-conflict-patched', 'parameters': [], 'html': {'*': 'Your edit was patched into the latest version.'}, 'type': 'warning'}]}\n",
      "WARNING: API warning (wbsetclaim) of unknown format: {'messages': [{'name': 'wikibase-conflict-patched', 'parameters': [], 'html': {'*': 'Your edit was patched into the latest version.'}, 'type': 'warning'}]}\n",
      "WARNING: API warning (wbsetclaim) of unknown format: {'messages': [{'name': 'wikibase-conflict-patched', 'parameters': [], 'html': {'*': 'Your edit was patched into the latest version.'}, 'type': 'warning'}]}\n",
      "WARNING: API warning (wbsetclaim) of unknown format: {'messages': [{'name': 'wikibase-conflict-patched', 'parameters': [], 'html': {'*': 'Your edit was patched into the latest version.'}, 'type': 'warning'}]}\n",
      "WARNING: API warning (wbsetclaim) of unknown format: {'messages': [{'name': 'wikibase-conflict-patched', 'parameters': [], 'html': {'*': 'Your edit was patched into the latest version.'}, 'type': 'warning'}]}\n",
      "WARNING: API warning (wbsetclaim) of unknown format: {'messages': [{'name': 'wikibase-conflict-patched', 'parameters': [], 'html': {'*': 'Your edit was patched into the latest version.'}, 'type': 'warning'}]}\n",
      "WARNING: API warning (wbsetclaim) of unknown format: {'messages': [{'name': 'wikibase-conflict-patched', 'parameters': [], 'html': {'*': 'Your edit was patched into the latest version.'}, 'type': 'warning'}]}\n",
      "WARNING: API warning (wbsetclaim) of unknown format: {'messages': [{'name': 'wikibase-conflict-patched', 'parameters': [], 'html': {'*': 'Your edit was patched into the latest version.'}, 'type': 'warning'}]}\n",
      "WARNING: API warning (wbsetclaim) of unknown format: {'messages': [{'name': 'wikibase-conflict-patched', 'parameters': [], 'html': {'*': 'Your edit was patched into the latest version.'}, 'type': 'warning'}]}\n",
      "WARNING: API warning (wbsetclaim) of unknown format: {'messages': [{'name': 'wikibase-conflict-patched', 'parameters': [], 'html': {'*': 'Your edit was patched into the latest version.'}, 'type': 'warning'}]}\n",
      "WARNING: API warning (wbsetclaim) of unknown format: {'messages': [{'name': 'wikibase-conflict-patched', 'parameters': [], 'html': {'*': 'Your edit was patched into the latest version.'}, 'type': 'warning'}]}\n",
      "WARNING: API warning (wbsetclaim) of unknown format: {'messages': [{'name': 'wikibase-conflict-patched', 'parameters': [], 'html': {'*': 'Your edit was patched into the latest version.'}, 'type': 'warning'}]}\n",
      "WARNING: API warning (wbsetclaim) of unknown format: {'messages': [{'name': 'wikibase-conflict-patched', 'parameters': [], 'html': {'*': 'Your edit was patched into the latest version.'}, 'type': 'warning'}]}\n",
      "WARNING: API warning (wbsetclaim) of unknown format: {'messages': [{'name': 'wikibase-conflict-patched', 'parameters': [], 'html': {'*': 'Your edit was patched into the latest version.'}, 'type': 'warning'}]}\n",
      "WARNING: API warning (wbsetclaim) of unknown format: {'messages': [{'name': 'wikibase-conflict-patched', 'parameters': [], 'html': {'*': 'Your edit was patched into the latest version.'}, 'type': 'warning'}]}\n",
      "WARNING: API warning (wbsetclaim) of unknown format: {'messages': [{'name': 'wikibase-conflict-patched', 'parameters': [], 'html': {'*': 'Your edit was patched into the latest version.'}, 'type': 'warning'}]}\n",
      "WARNING: API warning (wbsetclaim) of unknown format: {'messages': [{'name': 'wikibase-conflict-patched', 'parameters': [], 'html': {'*': 'Your edit was patched into the latest version.'}, 'type': 'warning'}]}\n",
      "WARNING: API warning (wbsetclaim) of unknown format: {'messages': [{'name': 'wikibase-conflict-patched', 'parameters': [], 'html': {'*': 'Your edit was patched into the latest version.'}, 'type': 'warning'}]}\n",
      "WARNING: API warning (wbsetclaim) of unknown format: {'messages': [{'name': 'wikibase-conflict-patched', 'parameters': [], 'html': {'*': 'Your edit was patched into the latest version.'}, 'type': 'warning'}]}\n",
      "WARNING: API warning (wbsetclaim) of unknown format: {'messages': [{'name': 'wikibase-conflict-patched', 'parameters': [], 'html': {'*': 'Your edit was patched into the latest version.'}, 'type': 'warning'}]}\n",
      "WARNING: API warning (wbsetclaim) of unknown format: {'messages': [{'name': 'wikibase-conflict-patched', 'parameters': [], 'html': {'*': 'Your edit was patched into the latest version.'}, 'type': 'warning'}]}\n",
      "WARNING: API warning (wbsetclaim) of unknown format: {'messages': [{'name': 'wikibase-conflict-patched', 'parameters': [], 'html': {'*': 'Your edit was patched into the latest version.'}, 'type': 'warning'}]}\n",
      "WARNING: API warning (wbsetclaim) of unknown format: {'messages': [{'name': 'wikibase-conflict-patched', 'parameters': [], 'html': {'*': 'Your edit was patched into the latest version.'}, 'type': 'warning'}]}\n",
      "WARNING: API warning (wbsetclaim) of unknown format: {'messages': [{'name': 'wikibase-conflict-patched', 'parameters': [], 'html': {'*': 'Your edit was patched into the latest version.'}, 'type': 'warning'}]}\n",
      "WARNING: API warning (wbsetclaim) of unknown format: {'messages': [{'name': 'wikibase-conflict-patched', 'parameters': [], 'html': {'*': 'Your edit was patched into the latest version.'}, 'type': 'warning'}]}\n",
      "WARNING: API warning (wbsetclaim) of unknown format: {'messages': [{'name': 'wikibase-conflict-patched', 'parameters': [], 'html': {'*': 'Your edit was patched into the latest version.'}, 'type': 'warning'}]}\n",
      "WARNING: API warning (wbsetclaim) of unknown format: {'messages': [{'name': 'wikibase-conflict-patched', 'parameters': [], 'html': {'*': 'Your edit was patched into the latest version.'}, 'type': 'warning'}]}\n",
      "WARNING: API warning (wbsetclaim) of unknown format: {'messages': [{'name': 'wikibase-conflict-patched', 'parameters': [], 'html': {'*': 'Your edit was patched into the latest version.'}, 'type': 'warning'}]}\n",
      "WARNING: API warning (wbsetclaim) of unknown format: {'messages': [{'name': 'wikibase-conflict-patched', 'parameters': [], 'html': {'*': 'Your edit was patched into the latest version.'}, 'type': 'warning'}]}\n",
      "WARNING: API warning (wbsetclaim) of unknown format: {'messages': [{'name': 'wikibase-conflict-patched', 'parameters': [], 'html': {'*': 'Your edit was patched into the latest version.'}, 'type': 'warning'}]}\n",
      "WARNING: API warning (wbsetclaim) of unknown format: {'messages': [{'name': 'wikibase-conflict-patched', 'parameters': [], 'html': {'*': 'Your edit was patched into the latest version.'}, 'type': 'warning'}]}\n",
      "WARNING: API warning (wbsetclaim) of unknown format: {'messages': [{'name': 'wikibase-conflict-patched', 'parameters': [], 'html': {'*': 'Your edit was patched into the latest version.'}, 'type': 'warning'}]}\n",
      "WARNING: API warning (wbsetclaim) of unknown format: {'messages': [{'name': 'wikibase-conflict-patched', 'parameters': [], 'html': {'*': 'Your edit was patched into the latest version.'}, 'type': 'warning'}]}\n",
      "WARNING: API warning (wbsetclaim) of unknown format: {'messages': [{'name': 'wikibase-conflict-patched', 'parameters': [], 'html': {'*': 'Your edit was patched into the latest version.'}, 'type': 'warning'}]}\n",
      "WARNING: API warning (wbsetclaim) of unknown format: {'messages': [{'name': 'wikibase-conflict-patched', 'parameters': [], 'html': {'*': 'Your edit was patched into the latest version.'}, 'type': 'warning'}]}\n",
      "WARNING: API warning (wbsetclaim) of unknown format: {'messages': [{'name': 'wikibase-conflict-patched', 'parameters': [], 'html': {'*': 'Your edit was patched into the latest version.'}, 'type': 'warning'}]}\n",
      "WARNING: API warning (wbsetclaim) of unknown format: {'messages': [{'name': 'wikibase-conflict-patched', 'parameters': [], 'html': {'*': 'Your edit was patched into the latest version.'}, 'type': 'warning'}]}\n",
      "WARNING: API warning (wbsetclaim) of unknown format: {'messages': [{'name': 'wikibase-conflict-patched', 'parameters': [], 'html': {'*': 'Your edit was patched into the latest version.'}, 'type': 'warning'}]}\n",
      "WARNING: API warning (wbsetclaim) of unknown format: {'messages': [{'name': 'wikibase-conflict-patched', 'parameters': [], 'html': {'*': 'Your edit was patched into the latest version.'}, 'type': 'warning'}]}\n",
      "WARNING: API warning (wbsetclaim) of unknown format: {'messages': [{'name': 'wikibase-conflict-patched', 'parameters': [], 'html': {'*': 'Your edit was patched into the latest version.'}, 'type': 'warning'}]}\n",
      "WARNING: API warning (wbsetclaim) of unknown format: {'messages': [{'name': 'wikibase-conflict-patched', 'parameters': [], 'html': {'*': 'Your edit was patched into the latest version.'}, 'type': 'warning'}]}\n",
      "WARNING: API warning (wbsetclaim) of unknown format: {'messages': [{'name': 'wikibase-conflict-patched', 'parameters': [], 'html': {'*': 'Your edit was patched into the latest version.'}, 'type': 'warning'}]}\n",
      "WARNING: API warning (wbsetclaim) of unknown format: {'messages': [{'name': 'wikibase-conflict-patched', 'parameters': [], 'html': {'*': 'Your edit was patched into the latest version.'}, 'type': 'warning'}]}\n",
      "WARNING: API warning (wbsetclaim) of unknown format: {'messages': [{'name': 'wikibase-conflict-patched', 'parameters': [], 'html': {'*': 'Your edit was patched into the latest version.'}, 'type': 'warning'}]}\n",
      "WARNING: API warning (wbsetclaim) of unknown format: {'messages': [{'name': 'wikibase-conflict-patched', 'parameters': [], 'html': {'*': 'Your edit was patched into the latest version.'}, 'type': 'warning'}]}\n",
      "WARNING: API warning (wbsetclaim) of unknown format: {'messages': [{'name': 'wikibase-conflict-patched', 'parameters': [], 'html': {'*': 'Your edit was patched into the latest version.'}, 'type': 'warning'}]}\n",
      "WARNING: API warning (wbsetclaim) of unknown format: {'messages': [{'name': 'wikibase-conflict-patched', 'parameters': [], 'html': {'*': 'Your edit was patched into the latest version.'}, 'type': 'warning'}]}\n",
      "WARNING: API warning (wbsetclaim) of unknown format: {'messages': [{'name': 'wikibase-conflict-patched', 'parameters': [], 'html': {'*': 'Your edit was patched into the latest version.'}, 'type': 'warning'}]}\n",
      "WARNING: API warning (wbsetclaim) of unknown format: {'messages': [{'name': 'wikibase-conflict-patched', 'parameters': [], 'html': {'*': 'Your edit was patched into the latest version.'}, 'type': 'warning'}]}\n",
      "WARNING: API warning (wbsetclaim) of unknown format: {'messages': [{'name': 'wikibase-conflict-patched', 'parameters': [], 'html': {'*': 'Your edit was patched into the latest version.'}, 'type': 'warning'}]}\n",
      "WARNING: API warning (wbsetclaim) of unknown format: {'messages': [{'name': 'wikibase-conflict-patched', 'parameters': [], 'html': {'*': 'Your edit was patched into the latest version.'}, 'type': 'warning'}]}\n",
      "WARNING: API warning (wbsetclaim) of unknown format: {'messages': [{'name': 'wikibase-conflict-patched', 'parameters': [], 'html': {'*': 'Your edit was patched into the latest version.'}, 'type': 'warning'}]}\n",
      "WARNING: API warning (wbsetclaim) of unknown format: {'messages': [{'name': 'wikibase-conflict-patched', 'parameters': [], 'html': {'*': 'Your edit was patched into the latest version.'}, 'type': 'warning'}]}\n",
      "WARNING: API warning (wbsetclaim) of unknown format: {'messages': [{'name': 'wikibase-conflict-patched', 'parameters': [], 'html': {'*': 'Your edit was patched into the latest version.'}, 'type': 'warning'}]}\n",
      "WARNING: API warning (wbsetclaim) of unknown format: {'messages': [{'name': 'wikibase-conflict-patched', 'parameters': [], 'html': {'*': 'Your edit was patched into the latest version.'}, 'type': 'warning'}]}\n",
      "WARNING: API warning (wbsetclaim) of unknown format: {'messages': [{'name': 'wikibase-conflict-patched', 'parameters': [], 'html': {'*': 'Your edit was patched into the latest version.'}, 'type': 'warning'}]}\n",
      "WARNING: API warning (wbsetclaim) of unknown format: {'messages': [{'name': 'wikibase-conflict-patched', 'parameters': [], 'html': {'*': 'Your edit was patched into the latest version.'}, 'type': 'warning'}]}\n",
      "WARNING: API warning (wbsetclaim) of unknown format: {'messages': [{'name': 'wikibase-conflict-patched', 'parameters': [], 'html': {'*': 'Your edit was patched into the latest version.'}, 'type': 'warning'}]}\n",
      "WARNING: API warning (wbsetclaim) of unknown format: {'messages': [{'name': 'wikibase-conflict-patched', 'parameters': [], 'html': {'*': 'Your edit was patched into the latest version.'}, 'type': 'warning'}]}\n",
      "WARNING: API warning (wbsetclaim) of unknown format: {'messages': [{'name': 'wikibase-conflict-patched', 'parameters': [], 'html': {'*': 'Your edit was patched into the latest version.'}, 'type': 'warning'}]}\n",
      "WARNING: API warning (wbsetclaim) of unknown format: {'messages': [{'name': 'wikibase-conflict-patched', 'parameters': [], 'html': {'*': 'Your edit was patched into the latest version.'}, 'type': 'warning'}]}\n",
      "WARNING: API warning (wbsetclaim) of unknown format: {'messages': [{'name': 'wikibase-conflict-patched', 'parameters': [], 'html': {'*': 'Your edit was patched into the latest version.'}, 'type': 'warning'}]}\n",
      "WARNING: API warning (wbsetclaim) of unknown format: {'messages': [{'name': 'wikibase-conflict-patched', 'parameters': [], 'html': {'*': 'Your edit was patched into the latest version.'}, 'type': 'warning'}]}\n",
      "WARNING: API warning (wbsetclaim) of unknown format: {'messages': [{'name': 'wikibase-conflict-patched', 'parameters': [], 'html': {'*': 'Your edit was patched into the latest version.'}, 'type': 'warning'}]}\n",
      "WARNING: API warning (wbsetclaim) of unknown format: {'messages': [{'name': 'wikibase-conflict-patched', 'parameters': [], 'html': {'*': 'Your edit was patched into the latest version.'}, 'type': 'warning'}]}\n",
      "WARNING: API warning (wbsetclaim) of unknown format: {'messages': [{'name': 'wikibase-conflict-patched', 'parameters': [], 'html': {'*': 'Your edit was patched into the latest version.'}, 'type': 'warning'}]}\n",
      "WARNING: API warning (wbsetclaim) of unknown format: {'messages': [{'name': 'wikibase-conflict-patched', 'parameters': [], 'html': {'*': 'Your edit was patched into the latest version.'}, 'type': 'warning'}]}\n",
      "WARNING: API warning (wbsetclaim) of unknown format: {'messages': [{'name': 'wikibase-conflict-patched', 'parameters': [], 'html': {'*': 'Your edit was patched into the latest version.'}, 'type': 'warning'}]}\n",
      "WARNING: API warning (wbsetclaim) of unknown format: {'messages': [{'name': 'wikibase-conflict-patched', 'parameters': [], 'html': {'*': 'Your edit was patched into the latest version.'}, 'type': 'warning'}]}\n",
      "WARNING: API warning (wbsetclaim) of unknown format: {'messages': [{'name': 'wikibase-conflict-patched', 'parameters': [], 'html': {'*': 'Your edit was patched into the latest version.'}, 'type': 'warning'}]}\n",
      "WARNING: API warning (wbsetclaim) of unknown format: {'messages': [{'name': 'wikibase-conflict-patched', 'parameters': [], 'html': {'*': 'Your edit was patched into the latest version.'}, 'type': 'warning'}]}\n",
      "WARNING: API warning (wbsetclaim) of unknown format: {'messages': [{'name': 'wikibase-conflict-patched', 'parameters': [], 'html': {'*': 'Your edit was patched into the latest version.'}, 'type': 'warning'}]}\n",
      "WARNING: API warning (wbsetclaim) of unknown format: {'messages': [{'name': 'wikibase-conflict-patched', 'parameters': [], 'html': {'*': 'Your edit was patched into the latest version.'}, 'type': 'warning'}]}\n",
      "WARNING: API warning (wbsetclaim) of unknown format: {'messages': [{'name': 'wikibase-conflict-patched', 'parameters': [], 'html': {'*': 'Your edit was patched into the latest version.'}, 'type': 'warning'}]}\n",
      "WARNING: API warning (wbsetclaim) of unknown format: {'messages': [{'name': 'wikibase-conflict-patched', 'parameters': [], 'html': {'*': 'Your edit was patched into the latest version.'}, 'type': 'warning'}]}\n",
      "WARNING: API warning (wbsetclaim) of unknown format: {'messages': [{'name': 'wikibase-conflict-patched', 'parameters': [], 'html': {'*': 'Your edit was patched into the latest version.'}, 'type': 'warning'}]}\n",
      "WARNING: API warning (wbsetclaim) of unknown format: {'messages': [{'name': 'wikibase-conflict-patched', 'parameters': [], 'html': {'*': 'Your edit was patched into the latest version.'}, 'type': 'warning'}]}\n",
      "WARNING: API warning (wbsetclaim) of unknown format: {'messages': [{'name': 'wikibase-conflict-patched', 'parameters': [], 'html': {'*': 'Your edit was patched into the latest version.'}, 'type': 'warning'}]}\n",
      "WARNING: API warning (wbsetclaim) of unknown format: {'messages': [{'name': 'wikibase-conflict-patched', 'parameters': [], 'html': {'*': 'Your edit was patched into the latest version.'}, 'type': 'warning'}]}\n",
      "WARNING: API warning (wbsetclaim) of unknown format: {'messages': [{'name': 'wikibase-conflict-patched', 'parameters': [], 'html': {'*': 'Your edit was patched into the latest version.'}, 'type': 'warning'}]}\n",
      "WARNING: API warning (wbsetclaim) of unknown format: {'messages': [{'name': 'wikibase-conflict-patched', 'parameters': [], 'html': {'*': 'Your edit was patched into the latest version.'}, 'type': 'warning'}]}\n",
      "WARNING: API warning (wbsetclaim) of unknown format: {'messages': [{'name': 'wikibase-conflict-patched', 'parameters': [], 'html': {'*': 'Your edit was patched into the latest version.'}, 'type': 'warning'}]}\n",
      "WARNING: API warning (wbsetclaim) of unknown format: {'messages': [{'name': 'wikibase-conflict-patched', 'parameters': [], 'html': {'*': 'Your edit was patched into the latest version.'}, 'type': 'warning'}]}\n",
      "WARNING: API warning (wbsetclaim) of unknown format: {'messages': [{'name': 'wikibase-conflict-patched', 'parameters': [], 'html': {'*': 'Your edit was patched into the latest version.'}, 'type': 'warning'}]}\n",
      "WARNING: API warning (wbsetclaim) of unknown format: {'messages': [{'name': 'wikibase-conflict-patched', 'parameters': [], 'html': {'*': 'Your edit was patched into the latest version.'}, 'type': 'warning'}]}\n",
      "WARNING: API warning (wbsetclaim) of unknown format: {'messages': [{'name': 'wikibase-conflict-patched', 'parameters': [], 'html': {'*': 'Your edit was patched into the latest version.'}, 'type': 'warning'}]}\n",
      "WARNING: API warning (wbsetclaim) of unknown format: {'messages': [{'name': 'wikibase-conflict-patched', 'parameters': [], 'html': {'*': 'Your edit was patched into the latest version.'}, 'type': 'warning'}]}\n",
      "WARNING: API warning (wbsetclaim) of unknown format: {'messages': [{'name': 'wikibase-conflict-patched', 'parameters': [], 'html': {'*': 'Your edit was patched into the latest version.'}, 'type': 'warning'}]}\n",
      "WARNING: API warning (wbsetclaim) of unknown format: {'messages': [{'name': 'wikibase-conflict-patched', 'parameters': [], 'html': {'*': 'Your edit was patched into the latest version.'}, 'type': 'warning'}]}\n",
      "WARNING: API warning (wbsetclaim) of unknown format: {'messages': [{'name': 'wikibase-conflict-patched', 'parameters': [], 'html': {'*': 'Your edit was patched into the latest version.'}, 'type': 'warning'}]}\n",
      "WARNING: API warning (wbsetclaim) of unknown format: {'messages': [{'name': 'wikibase-conflict-patched', 'parameters': [], 'html': {'*': 'Your edit was patched into the latest version.'}, 'type': 'warning'}]}\n",
      "WARNING: API warning (wbsetclaim) of unknown format: {'messages': [{'name': 'wikibase-conflict-patched', 'parameters': [], 'html': {'*': 'Your edit was patched into the latest version.'}, 'type': 'warning'}]}\n",
      "WARNING: API warning (wbsetclaim) of unknown format: {'messages': [{'name': 'wikibase-conflict-patched', 'parameters': [], 'html': {'*': 'Your edit was patched into the latest version.'}, 'type': 'warning'}]}\n",
      "WARNING: API warning (wbsetclaim) of unknown format: {'messages': [{'name': 'wikibase-conflict-patched', 'parameters': [], 'html': {'*': 'Your edit was patched into the latest version.'}, 'type': 'warning'}]}\n",
      "WARNING: API warning (wbsetclaim) of unknown format: {'messages': [{'name': 'wikibase-conflict-patched', 'parameters': [], 'html': {'*': 'Your edit was patched into the latest version.'}, 'type': 'warning'}]}\n",
      "WARNING: API warning (wbsetclaim) of unknown format: {'messages': [{'name': 'wikibase-conflict-patched', 'parameters': [], 'html': {'*': 'Your edit was patched into the latest version.'}, 'type': 'warning'}]}\n",
      "WARNING: API warning (wbsetclaim) of unknown format: {'messages': [{'name': 'wikibase-conflict-patched', 'parameters': [], 'html': {'*': 'Your edit was patched into the latest version.'}, 'type': 'warning'}]}\n",
      "WARNING: API warning (wbsetclaim) of unknown format: {'messages': [{'name': 'wikibase-conflict-patched', 'parameters': [], 'html': {'*': 'Your edit was patched into the latest version.'}, 'type': 'warning'}]}\n",
      "WARNING: API warning (wbsetclaim) of unknown format: {'messages': [{'name': 'wikibase-conflict-patched', 'parameters': [], 'html': {'*': 'Your edit was patched into the latest version.'}, 'type': 'warning'}]}\n",
      "WARNING: API warning (wbsetclaim) of unknown format: {'messages': [{'name': 'wikibase-conflict-patched', 'parameters': [], 'html': {'*': 'Your edit was patched into the latest version.'}, 'type': 'warning'}]}\n",
      "WARNING: API warning (wbsetclaim) of unknown format: {'messages': [{'name': 'wikibase-conflict-patched', 'parameters': [], 'html': {'*': 'Your edit was patched into the latest version.'}, 'type': 'warning'}]}\n",
      "WARNING: API warning (wbsetclaim) of unknown format: {'messages': [{'name': 'wikibase-conflict-patched', 'parameters': [], 'html': {'*': 'Your edit was patched into the latest version.'}, 'type': 'warning'}]}\n",
      "WARNING: API warning (wbsetclaim) of unknown format: {'messages': [{'name': 'wikibase-conflict-patched', 'parameters': [], 'html': {'*': 'Your edit was patched into the latest version.'}, 'type': 'warning'}]}\n",
      "WARNING: API warning (wbsetclaim) of unknown format: {'messages': [{'name': 'wikibase-conflict-patched', 'parameters': [], 'html': {'*': 'Your edit was patched into the latest version.'}, 'type': 'warning'}]}\n",
      "WARNING: API warning (wbsetclaim) of unknown format: {'messages': [{'name': 'wikibase-conflict-patched', 'parameters': [], 'html': {'*': 'Your edit was patched into the latest version.'}, 'type': 'warning'}]}\n",
      "WARNING: API warning (wbsetclaim) of unknown format: {'messages': [{'name': 'wikibase-conflict-patched', 'parameters': [], 'html': {'*': 'Your edit was patched into the latest version.'}, 'type': 'warning'}]}\n",
      "WARNING: API warning (wbsetclaim) of unknown format: {'messages': [{'name': 'wikibase-conflict-patched', 'parameters': [], 'html': {'*': 'Your edit was patched into the latest version.'}, 'type': 'warning'}]}\n",
      "WARNING: API warning (wbsetclaim) of unknown format: {'messages': [{'name': 'wikibase-conflict-patched', 'parameters': [], 'html': {'*': 'Your edit was patched into the latest version.'}, 'type': 'warning'}]}\n",
      "WARNING: API warning (wbsetclaim) of unknown format: {'messages': [{'name': 'wikibase-conflict-patched', 'parameters': [], 'html': {'*': 'Your edit was patched into the latest version.'}, 'type': 'warning'}]}\n",
      "WARNING: API warning (wbsetclaim) of unknown format: {'messages': [{'name': 'wikibase-conflict-patched', 'parameters': [], 'html': {'*': 'Your edit was patched into the latest version.'}, 'type': 'warning'}]}\n",
      "WARNING: API warning (wbsetclaim) of unknown format: {'messages': [{'name': 'wikibase-conflict-patched', 'parameters': [], 'html': {'*': 'Your edit was patched into the latest version.'}, 'type': 'warning'}]}\n",
      "WARNING: API warning (wbsetclaim) of unknown format: {'messages': [{'name': 'wikibase-conflict-patched', 'parameters': [], 'html': {'*': 'Your edit was patched into the latest version.'}, 'type': 'warning'}]}\n",
      "WARNING: API warning (wbsetclaim) of unknown format: {'messages': [{'name': 'wikibase-conflict-patched', 'parameters': [], 'html': {'*': 'Your edit was patched into the latest version.'}, 'type': 'warning'}]}\n",
      "WARNING: API warning (wbsetclaim) of unknown format: {'messages': [{'name': 'wikibase-conflict-patched', 'parameters': [], 'html': {'*': 'Your edit was patched into the latest version.'}, 'type': 'warning'}]}\n",
      "WARNING: API warning (wbsetclaim) of unknown format: {'messages': [{'name': 'wikibase-conflict-patched', 'parameters': [], 'html': {'*': 'Your edit was patched into the latest version.'}, 'type': 'warning'}]}\n",
      "WARNING: API warning (wbsetclaim) of unknown format: {'messages': [{'name': 'wikibase-conflict-patched', 'parameters': [], 'html': {'*': 'Your edit was patched into the latest version.'}, 'type': 'warning'}]}\n",
      "WARNING: API warning (wbsetclaim) of unknown format: {'messages': [{'name': 'wikibase-conflict-patched', 'parameters': [], 'html': {'*': 'Your edit was patched into the latest version.'}, 'type': 'warning'}]}\n",
      "WARNING: API warning (wbsetclaim) of unknown format: {'messages': [{'name': 'wikibase-conflict-patched', 'parameters': [], 'html': {'*': 'Your edit was patched into the latest version.'}, 'type': 'warning'}]}\n",
      "WARNING: API warning (wbsetclaim) of unknown format: {'messages': [{'name': 'wikibase-conflict-patched', 'parameters': [], 'html': {'*': 'Your edit was patched into the latest version.'}, 'type': 'warning'}]}\n",
      "WARNING: API warning (wbsetclaim) of unknown format: {'messages': [{'name': 'wikibase-conflict-patched', 'parameters': [], 'html': {'*': 'Your edit was patched into the latest version.'}, 'type': 'warning'}]}\n",
      "WARNING: API warning (wbsetclaim) of unknown format: {'messages': [{'name': 'wikibase-conflict-patched', 'parameters': [], 'html': {'*': 'Your edit was patched into the latest version.'}, 'type': 'warning'}]}\n",
      "WARNING: API warning (wbsetclaim) of unknown format: {'messages': [{'name': 'wikibase-conflict-patched', 'parameters': [], 'html': {'*': 'Your edit was patched into the latest version.'}, 'type': 'warning'}]}\n",
      "WARNING: API warning (wbsetclaim) of unknown format: {'messages': [{'name': 'wikibase-conflict-patched', 'parameters': [], 'html': {'*': 'Your edit was patched into the latest version.'}, 'type': 'warning'}]}\n",
      "WARNING: API warning (wbsetclaim) of unknown format: {'messages': [{'name': 'wikibase-conflict-patched', 'parameters': [], 'html': {'*': 'Your edit was patched into the latest version.'}, 'type': 'warning'}]}\n",
      "WARNING: API warning (wbsetclaim) of unknown format: {'messages': [{'name': 'wikibase-conflict-patched', 'parameters': [], 'html': {'*': 'Your edit was patched into the latest version.'}, 'type': 'warning'}]}\n",
      "WARNING: API warning (wbsetclaim) of unknown format: {'messages': [{'name': 'wikibase-conflict-patched', 'parameters': [], 'html': {'*': 'Your edit was patched into the latest version.'}, 'type': 'warning'}]}\n",
      "WARNING: API warning (wbsetclaim) of unknown format: {'messages': [{'name': 'wikibase-conflict-patched', 'parameters': [], 'html': {'*': 'Your edit was patched into the latest version.'}, 'type': 'warning'}]}\n",
      "WARNING: API warning (wbsetclaim) of unknown format: {'messages': [{'name': 'wikibase-conflict-patched', 'parameters': [], 'html': {'*': 'Your edit was patched into the latest version.'}, 'type': 'warning'}]}\n",
      "WARNING: API warning (wbsetclaim) of unknown format: {'messages': [{'name': 'wikibase-conflict-patched', 'parameters': [], 'html': {'*': 'Your edit was patched into the latest version.'}, 'type': 'warning'}]}\n",
      "WARNING: API warning (wbsetclaim) of unknown format: {'messages': [{'name': 'wikibase-conflict-patched', 'parameters': [], 'html': {'*': 'Your edit was patched into the latest version.'}, 'type': 'warning'}]}\n",
      "WARNING: API warning (wbsetclaim) of unknown format: {'messages': [{'name': 'wikibase-conflict-patched', 'parameters': [], 'html': {'*': 'Your edit was patched into the latest version.'}, 'type': 'warning'}]}\n",
      "WARNING: API warning (wbsetclaim) of unknown format: {'messages': [{'name': 'wikibase-conflict-patched', 'parameters': [], 'html': {'*': 'Your edit was patched into the latest version.'}, 'type': 'warning'}]}\n",
      "WARNING: API warning (wbsetclaim) of unknown format: {'messages': [{'name': 'wikibase-conflict-patched', 'parameters': [], 'html': {'*': 'Your edit was patched into the latest version.'}, 'type': 'warning'}]}\n",
      "WARNING: API warning (wbsetclaim) of unknown format: {'messages': [{'name': 'wikibase-conflict-patched', 'parameters': [], 'html': {'*': 'Your edit was patched into the latest version.'}, 'type': 'warning'}]}\n",
      "WARNING: API warning (wbsetclaim) of unknown format: {'messages': [{'name': 'wikibase-conflict-patched', 'parameters': [], 'html': {'*': 'Your edit was patched into the latest version.'}, 'type': 'warning'}]}\n",
      "WARNING: API warning (wbsetclaim) of unknown format: {'messages': [{'name': 'wikibase-conflict-patched', 'parameters': [], 'html': {'*': 'Your edit was patched into the latest version.'}, 'type': 'warning'}]}\n",
      "WARNING: API warning (wbsetclaim) of unknown format: {'messages': [{'name': 'wikibase-conflict-patched', 'parameters': [], 'html': {'*': 'Your edit was patched into the latest version.'}, 'type': 'warning'}]}\n",
      "WARNING: API warning (wbsetclaim) of unknown format: {'messages': [{'name': 'wikibase-conflict-patched', 'parameters': [], 'html': {'*': 'Your edit was patched into the latest version.'}, 'type': 'warning'}]}\n",
      "WARNING: API warning (wbsetclaim) of unknown format: {'messages': [{'name': 'wikibase-conflict-patched', 'parameters': [], 'html': {'*': 'Your edit was patched into the latest version.'}, 'type': 'warning'}]}\n",
      "WARNING: API warning (wbsetclaim) of unknown format: {'messages': [{'name': 'wikibase-conflict-patched', 'parameters': [], 'html': {'*': 'Your edit was patched into the latest version.'}, 'type': 'warning'}]}\n",
      "WARNING: API warning (wbsetclaim) of unknown format: {'messages': [{'name': 'wikibase-conflict-patched', 'parameters': [], 'html': {'*': 'Your edit was patched into the latest version.'}, 'type': 'warning'}]}\n",
      "WARNING: API warning (wbsetclaim) of unknown format: {'messages': [{'name': 'wikibase-conflict-patched', 'parameters': [], 'html': {'*': 'Your edit was patched into the latest version.'}, 'type': 'warning'}]}\n",
      "WARNING: API warning (wbsetclaim) of unknown format: {'messages': [{'name': 'wikibase-conflict-patched', 'parameters': [], 'html': {'*': 'Your edit was patched into the latest version.'}, 'type': 'warning'}]}\n",
      "WARNING: API warning (wbsetclaim) of unknown format: {'messages': [{'name': 'wikibase-conflict-patched', 'parameters': [], 'html': {'*': 'Your edit was patched into the latest version.'}, 'type': 'warning'}]}\n",
      "WARNING: API warning (wbsetclaim) of unknown format: {'messages': [{'name': 'wikibase-conflict-patched', 'parameters': [], 'html': {'*': 'Your edit was patched into the latest version.'}, 'type': 'warning'}]}\n",
      "WARNING: API warning (wbsetclaim) of unknown format: {'messages': [{'name': 'wikibase-conflict-patched', 'parameters': [], 'html': {'*': 'Your edit was patched into the latest version.'}, 'type': 'warning'}]}\n",
      "WARNING: API warning (wbsetclaim) of unknown format: {'messages': [{'name': 'wikibase-conflict-patched', 'parameters': [], 'html': {'*': 'Your edit was patched into the latest version.'}, 'type': 'warning'}]}\n",
      "WARNING: API warning (wbsetclaim) of unknown format: {'messages': [{'name': 'wikibase-conflict-patched', 'parameters': [], 'html': {'*': 'Your edit was patched into the latest version.'}, 'type': 'warning'}]}\n",
      "WARNING: API warning (wbsetclaim) of unknown format: {'messages': [{'name': 'wikibase-conflict-patched', 'parameters': [], 'html': {'*': 'Your edit was patched into the latest version.'}, 'type': 'warning'}]}\n",
      "WARNING: API warning (wbsetclaim) of unknown format: {'messages': [{'name': 'wikibase-conflict-patched', 'parameters': [], 'html': {'*': 'Your edit was patched into the latest version.'}, 'type': 'warning'}]}\n",
      "WARNING: API warning (wbsetclaim) of unknown format: {'messages': [{'name': 'wikibase-conflict-patched', 'parameters': [], 'html': {'*': 'Your edit was patched into the latest version.'}, 'type': 'warning'}]}\n",
      "WARNING: API warning (wbsetclaim) of unknown format: {'messages': [{'name': 'wikibase-conflict-patched', 'parameters': [], 'html': {'*': 'Your edit was patched into the latest version.'}, 'type': 'warning'}]}\n",
      "WARNING: API warning (wbsetclaim) of unknown format: {'messages': [{'name': 'wikibase-conflict-patched', 'parameters': [], 'html': {'*': 'Your edit was patched into the latest version.'}, 'type': 'warning'}]}\n",
      "WARNING: API warning (wbsetclaim) of unknown format: {'messages': [{'name': 'wikibase-conflict-patched', 'parameters': [], 'html': {'*': 'Your edit was patched into the latest version.'}, 'type': 'warning'}]}\n",
      "WARNING: API warning (wbsetclaim) of unknown format: {'messages': [{'name': 'wikibase-conflict-patched', 'parameters': [], 'html': {'*': 'Your edit was patched into the latest version.'}, 'type': 'warning'}]}\n",
      "WARNING: API warning (wbsetclaim) of unknown format: {'messages': [{'name': 'wikibase-conflict-patched', 'parameters': [], 'html': {'*': 'Your edit was patched into the latest version.'}, 'type': 'warning'}]}\n",
      "WARNING: API warning (wbsetclaim) of unknown format: {'messages': [{'name': 'wikibase-conflict-patched', 'parameters': [], 'html': {'*': 'Your edit was patched into the latest version.'}, 'type': 'warning'}]}\n",
      "WARNING: API warning (wbsetclaim) of unknown format: {'messages': [{'name': 'wikibase-conflict-patched', 'parameters': [], 'html': {'*': 'Your edit was patched into the latest version.'}, 'type': 'warning'}]}\n",
      "WARNING: API warning (wbsetclaim) of unknown format: {'messages': [{'name': 'wikibase-conflict-patched', 'parameters': [], 'html': {'*': 'Your edit was patched into the latest version.'}, 'type': 'warning'}]}\n",
      "WARNING: API warning (wbsetclaim) of unknown format: {'messages': [{'name': 'wikibase-conflict-patched', 'parameters': [], 'html': {'*': 'Your edit was patched into the latest version.'}, 'type': 'warning'}]}\n",
      "WARNING: API warning (wbsetclaim) of unknown format: {'messages': [{'name': 'wikibase-conflict-patched', 'parameters': [], 'html': {'*': 'Your edit was patched into the latest version.'}, 'type': 'warning'}]}\n",
      "WARNING: API warning (wbsetclaim) of unknown format: {'messages': [{'name': 'wikibase-conflict-patched', 'parameters': [], 'html': {'*': 'Your edit was patched into the latest version.'}, 'type': 'warning'}]}\n",
      "WARNING: API warning (wbsetclaim) of unknown format: {'messages': [{'name': 'wikibase-conflict-patched', 'parameters': [], 'html': {'*': 'Your edit was patched into the latest version.'}, 'type': 'warning'}]}\n",
      "WARNING: API warning (wbsetclaim) of unknown format: {'messages': [{'name': 'wikibase-conflict-patched', 'parameters': [], 'html': {'*': 'Your edit was patched into the latest version.'}, 'type': 'warning'}]}\n",
      "WARNING: API warning (wbsetclaim) of unknown format: {'messages': [{'name': 'wikibase-conflict-patched', 'parameters': [], 'html': {'*': 'Your edit was patched into the latest version.'}, 'type': 'warning'}]}\n",
      "WARNING: API warning (wbsetclaim) of unknown format: {'messages': [{'name': 'wikibase-conflict-patched', 'parameters': [], 'html': {'*': 'Your edit was patched into the latest version.'}, 'type': 'warning'}]}\n",
      "WARNING: API warning (wbsetclaim) of unknown format: {'messages': [{'name': 'wikibase-conflict-patched', 'parameters': [], 'html': {'*': 'Your edit was patched into the latest version.'}, 'type': 'warning'}]}\n",
      "WARNING: API warning (wbsetclaim) of unknown format: {'messages': [{'name': 'wikibase-conflict-patched', 'parameters': [], 'html': {'*': 'Your edit was patched into the latest version.'}, 'type': 'warning'}]}\n",
      "WARNING: API warning (wbsetclaim) of unknown format: {'messages': [{'name': 'wikibase-conflict-patched', 'parameters': [], 'html': {'*': 'Your edit was patched into the latest version.'}, 'type': 'warning'}]}\n",
      "WARNING: API warning (wbsetclaim) of unknown format: {'messages': [{'name': 'wikibase-conflict-patched', 'parameters': [], 'html': {'*': 'Your edit was patched into the latest version.'}, 'type': 'warning'}]}\n",
      "WARNING: API warning (wbsetclaim) of unknown format: {'messages': [{'name': 'wikibase-conflict-patched', 'parameters': [], 'html': {'*': 'Your edit was patched into the latest version.'}, 'type': 'warning'}]}\n",
      "WARNING: API warning (wbsetclaim) of unknown format: {'messages': [{'name': 'wikibase-conflict-patched', 'parameters': [], 'html': {'*': 'Your edit was patched into the latest version.'}, 'type': 'warning'}]}\n",
      "WARNING: API warning (wbsetclaim) of unknown format: {'messages': [{'name': 'wikibase-conflict-patched', 'parameters': [], 'html': {'*': 'Your edit was patched into the latest version.'}, 'type': 'warning'}]}\n",
      "WARNING: API warning (wbsetclaim) of unknown format: {'messages': [{'name': 'wikibase-conflict-patched', 'parameters': [], 'html': {'*': 'Your edit was patched into the latest version.'}, 'type': 'warning'}]}\n",
      "WARNING: API warning (wbsetclaim) of unknown format: {'messages': [{'name': 'wikibase-conflict-patched', 'parameters': [], 'html': {'*': 'Your edit was patched into the latest version.'}, 'type': 'warning'}]}\n",
      "WARNING: API warning (wbsetclaim) of unknown format: {'messages': [{'name': 'wikibase-conflict-patched', 'parameters': [], 'html': {'*': 'Your edit was patched into the latest version.'}, 'type': 'warning'}]}\n",
      "WARNING: API warning (wbsetclaim) of unknown format: {'messages': [{'name': 'wikibase-conflict-patched', 'parameters': [], 'html': {'*': 'Your edit was patched into the latest version.'}, 'type': 'warning'}]}\n",
      "WARNING: API warning (wbsetclaim) of unknown format: {'messages': [{'name': 'wikibase-conflict-patched', 'parameters': [], 'html': {'*': 'Your edit was patched into the latest version.'}, 'type': 'warning'}]}\n",
      "WARNING: API warning (wbsetclaim) of unknown format: {'messages': [{'name': 'wikibase-conflict-patched', 'parameters': [], 'html': {'*': 'Your edit was patched into the latest version.'}, 'type': 'warning'}]}\n",
      "WARNING: API warning (wbsetclaim) of unknown format: {'messages': [{'name': 'wikibase-conflict-patched', 'parameters': [], 'html': {'*': 'Your edit was patched into the latest version.'}, 'type': 'warning'}]}\n",
      "WARNING: API warning (wbsetclaim) of unknown format: {'messages': [{'name': 'wikibase-conflict-patched', 'parameters': [], 'html': {'*': 'Your edit was patched into the latest version.'}, 'type': 'warning'}]}\n",
      "WARNING: API warning (wbsetclaim) of unknown format: {'messages': [{'name': 'wikibase-conflict-patched', 'parameters': [], 'html': {'*': 'Your edit was patched into the latest version.'}, 'type': 'warning'}]}\n",
      "WARNING: API warning (wbsetclaim) of unknown format: {'messages': [{'name': 'wikibase-conflict-patched', 'parameters': [], 'html': {'*': 'Your edit was patched into the latest version.'}, 'type': 'warning'}]}\n",
      "WARNING: API warning (wbsetclaim) of unknown format: {'messages': [{'name': 'wikibase-conflict-patched', 'parameters': [], 'html': {'*': 'Your edit was patched into the latest version.'}, 'type': 'warning'}]}\n",
      "WARNING: API warning (wbsetclaim) of unknown format: {'messages': [{'name': 'wikibase-conflict-patched', 'parameters': [], 'html': {'*': 'Your edit was patched into the latest version.'}, 'type': 'warning'}]}\n",
      "WARNING: API warning (wbsetclaim) of unknown format: {'messages': [{'name': 'wikibase-conflict-patched', 'parameters': [], 'html': {'*': 'Your edit was patched into the latest version.'}, 'type': 'warning'}]}\n",
      "WARNING: API warning (wbsetclaim) of unknown format: {'messages': [{'name': 'wikibase-conflict-patched', 'parameters': [], 'html': {'*': 'Your edit was patched into the latest version.'}, 'type': 'warning'}]}\n",
      "WARNING: API warning (wbsetclaim) of unknown format: {'messages': [{'name': 'wikibase-conflict-patched', 'parameters': [], 'html': {'*': 'Your edit was patched into the latest version.'}, 'type': 'warning'}]}\n",
      "WARNING: API warning (wbsetclaim) of unknown format: {'messages': [{'name': 'wikibase-conflict-patched', 'parameters': [], 'html': {'*': 'Your edit was patched into the latest version.'}, 'type': 'warning'}]}\n",
      "WARNING: API warning (wbsetclaim) of unknown format: {'messages': [{'name': 'wikibase-conflict-patched', 'parameters': [], 'html': {'*': 'Your edit was patched into the latest version.'}, 'type': 'warning'}]}\n",
      "WARNING: API warning (wbsetclaim) of unknown format: {'messages': [{'name': 'wikibase-conflict-patched', 'parameters': [], 'html': {'*': 'Your edit was patched into the latest version.'}, 'type': 'warning'}]}\n",
      "WARNING: API warning (wbsetclaim) of unknown format: {'messages': [{'name': 'wikibase-conflict-patched', 'parameters': [], 'html': {'*': 'Your edit was patched into the latest version.'}, 'type': 'warning'}]}\n",
      "WARNING: API warning (wbsetclaim) of unknown format: {'messages': [{'name': 'wikibase-conflict-patched', 'parameters': [], 'html': {'*': 'Your edit was patched into the latest version.'}, 'type': 'warning'}]}\n",
      "WARNING: API warning (wbsetclaim) of unknown format: {'messages': [{'name': 'wikibase-conflict-patched', 'parameters': [], 'html': {'*': 'Your edit was patched into the latest version.'}, 'type': 'warning'}]}\n",
      "WARNING: API warning (wbsetclaim) of unknown format: {'messages': [{'name': 'wikibase-conflict-patched', 'parameters': [], 'html': {'*': 'Your edit was patched into the latest version.'}, 'type': 'warning'}]}\n",
      "WARNING: API warning (wbsetclaim) of unknown format: {'messages': [{'name': 'wikibase-conflict-patched', 'parameters': [], 'html': {'*': 'Your edit was patched into the latest version.'}, 'type': 'warning'}]}\n",
      "WARNING: API warning (wbsetclaim) of unknown format: {'messages': [{'name': 'wikibase-conflict-patched', 'parameters': [], 'html': {'*': 'Your edit was patched into the latest version.'}, 'type': 'warning'}]}\n",
      "WARNING: API warning (wbsetclaim) of unknown format: {'messages': [{'name': 'wikibase-conflict-patched', 'parameters': [], 'html': {'*': 'Your edit was patched into the latest version.'}, 'type': 'warning'}]}\n",
      "WARNING: API warning (wbsetclaim) of unknown format: {'messages': [{'name': 'wikibase-conflict-patched', 'parameters': [], 'html': {'*': 'Your edit was patched into the latest version.'}, 'type': 'warning'}]}\n",
      "WARNING: API warning (wbsetclaim) of unknown format: {'messages': [{'name': 'wikibase-conflict-patched', 'parameters': [], 'html': {'*': 'Your edit was patched into the latest version.'}, 'type': 'warning'}]}\n",
      "WARNING: API warning (wbsetclaim) of unknown format: {'messages': [{'name': 'wikibase-conflict-patched', 'parameters': [], 'html': {'*': 'Your edit was patched into the latest version.'}, 'type': 'warning'}]}\n",
      "WARNING: API warning (wbsetclaim) of unknown format: {'messages': [{'name': 'wikibase-conflict-patched', 'parameters': [], 'html': {'*': 'Your edit was patched into the latest version.'}, 'type': 'warning'}]}\n",
      "WARNING: API warning (wbsetclaim) of unknown format: {'messages': [{'name': 'wikibase-conflict-patched', 'parameters': [], 'html': {'*': 'Your edit was patched into the latest version.'}, 'type': 'warning'}]}\n",
      "WARNING: API warning (wbsetclaim) of unknown format: {'messages': [{'name': 'wikibase-conflict-patched', 'parameters': [], 'html': {'*': 'Your edit was patched into the latest version.'}, 'type': 'warning'}]}\n",
      "WARNING: API warning (wbsetclaim) of unknown format: {'messages': [{'name': 'wikibase-conflict-patched', 'parameters': [], 'html': {'*': 'Your edit was patched into the latest version.'}, 'type': 'warning'}]}\n",
      "WARNING: API warning (wbsetclaim) of unknown format: {'messages': [{'name': 'wikibase-conflict-patched', 'parameters': [], 'html': {'*': 'Your edit was patched into the latest version.'}, 'type': 'warning'}]}\n",
      "WARNING: API warning (wbsetclaim) of unknown format: {'messages': [{'name': 'wikibase-conflict-patched', 'parameters': [], 'html': {'*': 'Your edit was patched into the latest version.'}, 'type': 'warning'}]}\n",
      "WARNING: API warning (wbsetclaim) of unknown format: {'messages': [{'name': 'wikibase-conflict-patched', 'parameters': [], 'html': {'*': 'Your edit was patched into the latest version.'}, 'type': 'warning'}]}\n",
      "WARNING: API warning (wbsetclaim) of unknown format: {'messages': [{'name': 'wikibase-conflict-patched', 'parameters': [], 'html': {'*': 'Your edit was patched into the latest version.'}, 'type': 'warning'}]}\n",
      "WARNING: API warning (wbsetclaim) of unknown format: {'messages': [{'name': 'wikibase-conflict-patched', 'parameters': [], 'html': {'*': 'Your edit was patched into the latest version.'}, 'type': 'warning'}]}\n",
      "WARNING: API warning (wbsetclaim) of unknown format: {'messages': [{'name': 'wikibase-conflict-patched', 'parameters': [], 'html': {'*': 'Your edit was patched into the latest version.'}, 'type': 'warning'}]}\n",
      "WARNING: API warning (wbsetclaim) of unknown format: {'messages': [{'name': 'wikibase-conflict-patched', 'parameters': [], 'html': {'*': 'Your edit was patched into the latest version.'}, 'type': 'warning'}]}\n",
      "WARNING: API warning (wbsetclaim) of unknown format: {'messages': [{'name': 'wikibase-conflict-patched', 'parameters': [], 'html': {'*': 'Your edit was patched into the latest version.'}, 'type': 'warning'}]}\n",
      "WARNING: API warning (wbsetclaim) of unknown format: {'messages': [{'name': 'wikibase-conflict-patched', 'parameters': [], 'html': {'*': 'Your edit was patched into the latest version.'}, 'type': 'warning'}]}\n",
      "WARNING: API warning (wbsetclaim) of unknown format: {'messages': [{'name': 'wikibase-conflict-patched', 'parameters': [], 'html': {'*': 'Your edit was patched into the latest version.'}, 'type': 'warning'}]}\n",
      "WARNING: API warning (wbsetclaim) of unknown format: {'messages': [{'name': 'wikibase-conflict-patched', 'parameters': [], 'html': {'*': 'Your edit was patched into the latest version.'}, 'type': 'warning'}]}\n",
      "WARNING: API warning (wbsetclaim) of unknown format: {'messages': [{'name': 'wikibase-conflict-patched', 'parameters': [], 'html': {'*': 'Your edit was patched into the latest version.'}, 'type': 'warning'}]}\n",
      "WARNING: API warning (wbsetclaim) of unknown format: {'messages': [{'name': 'wikibase-conflict-patched', 'parameters': [], 'html': {'*': 'Your edit was patched into the latest version.'}, 'type': 'warning'}]}\n",
      "WARNING: API warning (wbsetclaim) of unknown format: {'messages': [{'name': 'wikibase-conflict-patched', 'parameters': [], 'html': {'*': 'Your edit was patched into the latest version.'}, 'type': 'warning'}]}\n",
      "WARNING: API warning (wbsetclaim) of unknown format: {'messages': [{'name': 'wikibase-conflict-patched', 'parameters': [], 'html': {'*': 'Your edit was patched into the latest version.'}, 'type': 'warning'}]}\n",
      "WARNING: API warning (wbsetclaim) of unknown format: {'messages': [{'name': 'wikibase-conflict-patched', 'parameters': [], 'html': {'*': 'Your edit was patched into the latest version.'}, 'type': 'warning'}]}\n",
      "WARNING: API warning (wbsetclaim) of unknown format: {'messages': [{'name': 'wikibase-conflict-patched', 'parameters': [], 'html': {'*': 'Your edit was patched into the latest version.'}, 'type': 'warning'}]}\n",
      "WARNING: API warning (wbsetclaim) of unknown format: {'messages': [{'name': 'wikibase-conflict-patched', 'parameters': [], 'html': {'*': 'Your edit was patched into the latest version.'}, 'type': 'warning'}]}\n",
      "WARNING: API warning (wbsetclaim) of unknown format: {'messages': [{'name': 'wikibase-conflict-patched', 'parameters': [], 'html': {'*': 'Your edit was patched into the latest version.'}, 'type': 'warning'}]}\n",
      "WARNING: API warning (wbsetclaim) of unknown format: {'messages': [{'name': 'wikibase-conflict-patched', 'parameters': [], 'html': {'*': 'Your edit was patched into the latest version.'}, 'type': 'warning'}]}\n",
      "WARNING: API warning (wbsetclaim) of unknown format: {'messages': [{'name': 'wikibase-conflict-patched', 'parameters': [], 'html': {'*': 'Your edit was patched into the latest version.'}, 'type': 'warning'}]}\n",
      "WARNING: API warning (wbsetclaim) of unknown format: {'messages': [{'name': 'wikibase-conflict-patched', 'parameters': [], 'html': {'*': 'Your edit was patched into the latest version.'}, 'type': 'warning'}]}\n",
      "WARNING: API warning (wbsetclaim) of unknown format: {'messages': [{'name': 'wikibase-conflict-patched', 'parameters': [], 'html': {'*': 'Your edit was patched into the latest version.'}, 'type': 'warning'}]}\n",
      "WARNING: API warning (wbsetclaim) of unknown format: {'messages': [{'name': 'wikibase-conflict-patched', 'parameters': [], 'html': {'*': 'Your edit was patched into the latest version.'}, 'type': 'warning'}]}\n",
      "WARNING: API warning (wbsetclaim) of unknown format: {'messages': [{'name': 'wikibase-conflict-patched', 'parameters': [], 'html': {'*': 'Your edit was patched into the latest version.'}, 'type': 'warning'}]}\n",
      "WARNING: API warning (wbsetclaim) of unknown format: {'messages': [{'name': 'wikibase-conflict-patched', 'parameters': [], 'html': {'*': 'Your edit was patched into the latest version.'}, 'type': 'warning'}]}\n",
      "WARNING: API warning (wbsetclaim) of unknown format: {'messages': [{'name': 'wikibase-conflict-patched', 'parameters': [], 'html': {'*': 'Your edit was patched into the latest version.'}, 'type': 'warning'}]}\n",
      "WARNING: API warning (wbsetclaim) of unknown format: {'messages': [{'name': 'wikibase-conflict-patched', 'parameters': [], 'html': {'*': 'Your edit was patched into the latest version.'}, 'type': 'warning'}]}\n",
      "WARNING: API warning (wbsetclaim) of unknown format: {'messages': [{'name': 'wikibase-conflict-patched', 'parameters': [], 'html': {'*': 'Your edit was patched into the latest version.'}, 'type': 'warning'}]}\n",
      "WARNING: API warning (wbsetclaim) of unknown format: {'messages': [{'name': 'wikibase-conflict-patched', 'parameters': [], 'html': {'*': 'Your edit was patched into the latest version.'}, 'type': 'warning'}]}\n",
      "WARNING: API warning (wbsetclaim) of unknown format: {'messages': [{'name': 'wikibase-conflict-patched', 'parameters': [], 'html': {'*': 'Your edit was patched into the latest version.'}, 'type': 'warning'}]}\n",
      "WARNING: API warning (wbsetclaim) of unknown format: {'messages': [{'name': 'wikibase-conflict-patched', 'parameters': [], 'html': {'*': 'Your edit was patched into the latest version.'}, 'type': 'warning'}]}\n",
      "WARNING: API warning (wbsetclaim) of unknown format: {'messages': [{'name': 'wikibase-conflict-patched', 'parameters': [], 'html': {'*': 'Your edit was patched into the latest version.'}, 'type': 'warning'}]}\n",
      "WARNING: API warning (wbsetclaim) of unknown format: {'messages': [{'name': 'wikibase-conflict-patched', 'parameters': [], 'html': {'*': 'Your edit was patched into the latest version.'}, 'type': 'warning'}]}\n",
      "WARNING: API warning (wbsetclaim) of unknown format: {'messages': [{'name': 'wikibase-conflict-patched', 'parameters': [], 'html': {'*': 'Your edit was patched into the latest version.'}, 'type': 'warning'}]}\n",
      "WARNING: API warning (wbsetclaim) of unknown format: {'messages': [{'name': 'wikibase-conflict-patched', 'parameters': [], 'html': {'*': 'Your edit was patched into the latest version.'}, 'type': 'warning'}]}\n",
      "WARNING: API warning (wbsetclaim) of unknown format: {'messages': [{'name': 'wikibase-conflict-patched', 'parameters': [], 'html': {'*': 'Your edit was patched into the latest version.'}, 'type': 'warning'}]}\n",
      "WARNING: API warning (wbsetclaim) of unknown format: {'messages': [{'name': 'wikibase-conflict-patched', 'parameters': [], 'html': {'*': 'Your edit was patched into the latest version.'}, 'type': 'warning'}]}\n",
      "WARNING: API warning (wbsetclaim) of unknown format: {'messages': [{'name': 'wikibase-conflict-patched', 'parameters': [], 'html': {'*': 'Your edit was patched into the latest version.'}, 'type': 'warning'}]}\n",
      "WARNING: API warning (wbsetclaim) of unknown format: {'messages': [{'name': 'wikibase-conflict-patched', 'parameters': [], 'html': {'*': 'Your edit was patched into the latest version.'}, 'type': 'warning'}]}\n",
      "WARNING: API warning (wbsetclaim) of unknown format: {'messages': [{'name': 'wikibase-conflict-patched', 'parameters': [], 'html': {'*': 'Your edit was patched into the latest version.'}, 'type': 'warning'}]}\n",
      "WARNING: API warning (wbsetclaim) of unknown format: {'messages': [{'name': 'wikibase-conflict-patched', 'parameters': [], 'html': {'*': 'Your edit was patched into the latest version.'}, 'type': 'warning'}]}\n",
      "WARNING: API warning (wbsetclaim) of unknown format: {'messages': [{'name': 'wikibase-conflict-patched', 'parameters': [], 'html': {'*': 'Your edit was patched into the latest version.'}, 'type': 'warning'}]}\n",
      "WARNING: API warning (wbsetclaim) of unknown format: {'messages': [{'name': 'wikibase-conflict-patched', 'parameters': [], 'html': {'*': 'Your edit was patched into the latest version.'}, 'type': 'warning'}]}\n",
      "WARNING: API warning (wbsetclaim) of unknown format: {'messages': [{'name': 'wikibase-conflict-patched', 'parameters': [], 'html': {'*': 'Your edit was patched into the latest version.'}, 'type': 'warning'}]}\n",
      "WARNING: API warning (wbsetclaim) of unknown format: {'messages': [{'name': 'wikibase-conflict-patched', 'parameters': [], 'html': {'*': 'Your edit was patched into the latest version.'}, 'type': 'warning'}]}\n",
      "WARNING: API warning (wbsetclaim) of unknown format: {'messages': [{'name': 'wikibase-conflict-patched', 'parameters': [], 'html': {'*': 'Your edit was patched into the latest version.'}, 'type': 'warning'}]}\n",
      "WARNING: API warning (wbsetclaim) of unknown format: {'messages': [{'name': 'wikibase-conflict-patched', 'parameters': [], 'html': {'*': 'Your edit was patched into the latest version.'}, 'type': 'warning'}]}\n",
      "WARNING: API warning (wbsetclaim) of unknown format: {'messages': [{'name': 'wikibase-conflict-patched', 'parameters': [], 'html': {'*': 'Your edit was patched into the latest version.'}, 'type': 'warning'}]}\n",
      "WARNING: API warning (wbsetclaim) of unknown format: {'messages': [{'name': 'wikibase-conflict-patched', 'parameters': [], 'html': {'*': 'Your edit was patched into the latest version.'}, 'type': 'warning'}]}\n",
      "WARNING: API warning (wbsetclaim) of unknown format: {'messages': [{'name': 'wikibase-conflict-patched', 'parameters': [], 'html': {'*': 'Your edit was patched into the latest version.'}, 'type': 'warning'}]}\n",
      "WARNING: API warning (wbsetclaim) of unknown format: {'messages': [{'name': 'wikibase-conflict-patched', 'parameters': [], 'html': {'*': 'Your edit was patched into the latest version.'}, 'type': 'warning'}]}\n",
      "WARNING: API warning (wbsetclaim) of unknown format: {'messages': [{'name': 'wikibase-conflict-patched', 'parameters': [], 'html': {'*': 'Your edit was patched into the latest version.'}, 'type': 'warning'}]}\n",
      "WARNING: API warning (wbsetclaim) of unknown format: {'messages': [{'name': 'wikibase-conflict-patched', 'parameters': [], 'html': {'*': 'Your edit was patched into the latest version.'}, 'type': 'warning'}]}\n",
      "WARNING: API warning (wbsetclaim) of unknown format: {'messages': [{'name': 'wikibase-conflict-patched', 'parameters': [], 'html': {'*': 'Your edit was patched into the latest version.'}, 'type': 'warning'}]}\n",
      "WARNING: API warning (wbsetclaim) of unknown format: {'messages': [{'name': 'wikibase-conflict-patched', 'parameters': [], 'html': {'*': 'Your edit was patched into the latest version.'}, 'type': 'warning'}]}\n",
      "WARNING: API warning (wbsetclaim) of unknown format: {'messages': [{'name': 'wikibase-conflict-patched', 'parameters': [], 'html': {'*': 'Your edit was patched into the latest version.'}, 'type': 'warning'}]}\n",
      "WARNING: API warning (wbsetclaim) of unknown format: {'messages': [{'name': 'wikibase-conflict-patched', 'parameters': [], 'html': {'*': 'Your edit was patched into the latest version.'}, 'type': 'warning'}]}\n",
      "WARNING: API warning (wbsetclaim) of unknown format: {'messages': [{'name': 'wikibase-conflict-patched', 'parameters': [], 'html': {'*': 'Your edit was patched into the latest version.'}, 'type': 'warning'}]}\n",
      "WARNING: API warning (wbsetclaim) of unknown format: {'messages': [{'name': 'wikibase-conflict-patched', 'parameters': [], 'html': {'*': 'Your edit was patched into the latest version.'}, 'type': 'warning'}]}\n",
      "WARNING: API warning (wbsetclaim) of unknown format: {'messages': [{'name': 'wikibase-conflict-patched', 'parameters': [], 'html': {'*': 'Your edit was patched into the latest version.'}, 'type': 'warning'}]}\n",
      "WARNING: API warning (wbsetclaim) of unknown format: {'messages': [{'name': 'wikibase-conflict-patched', 'parameters': [], 'html': {'*': 'Your edit was patched into the latest version.'}, 'type': 'warning'}]}\n",
      "WARNING: API warning (wbsetclaim) of unknown format: {'messages': [{'name': 'wikibase-conflict-patched', 'parameters': [], 'html': {'*': 'Your edit was patched into the latest version.'}, 'type': 'warning'}]}\n",
      "WARNING: API warning (wbsetclaim) of unknown format: {'messages': [{'name': 'wikibase-conflict-patched', 'parameters': [], 'html': {'*': 'Your edit was patched into the latest version.'}, 'type': 'warning'}]}\n",
      "WARNING: API warning (wbsetclaim) of unknown format: {'messages': [{'name': 'wikibase-conflict-patched', 'parameters': [], 'html': {'*': 'Your edit was patched into the latest version.'}, 'type': 'warning'}]}\n",
      "WARNING: API warning (wbsetclaim) of unknown format: {'messages': [{'name': 'wikibase-conflict-patched', 'parameters': [], 'html': {'*': 'Your edit was patched into the latest version.'}, 'type': 'warning'}]}\n",
      "WARNING: API warning (wbsetclaim) of unknown format: {'messages': [{'name': 'wikibase-conflict-patched', 'parameters': [], 'html': {'*': 'Your edit was patched into the latest version.'}, 'type': 'warning'}]}\n",
      "WARNING: API warning (wbsetclaim) of unknown format: {'messages': [{'name': 'wikibase-conflict-patched', 'parameters': [], 'html': {'*': 'Your edit was patched into the latest version.'}, 'type': 'warning'}]}\n",
      "WARNING: API warning (wbsetclaim) of unknown format: {'messages': [{'name': 'wikibase-conflict-patched', 'parameters': [], 'html': {'*': 'Your edit was patched into the latest version.'}, 'type': 'warning'}]}\n",
      "WARNING: API warning (wbsetclaim) of unknown format: {'messages': [{'name': 'wikibase-conflict-patched', 'parameters': [], 'html': {'*': 'Your edit was patched into the latest version.'}, 'type': 'warning'}]}\n",
      "WARNING: API warning (wbsetclaim) of unknown format: {'messages': [{'name': 'wikibase-conflict-patched', 'parameters': [], 'html': {'*': 'Your edit was patched into the latest version.'}, 'type': 'warning'}]}\n",
      "WARNING: API warning (wbsetclaim) of unknown format: {'messages': [{'name': 'wikibase-conflict-patched', 'parameters': [], 'html': {'*': 'Your edit was patched into the latest version.'}, 'type': 'warning'}]}\n",
      "WARNING: API warning (wbsetclaim) of unknown format: {'messages': [{'name': 'wikibase-conflict-patched', 'parameters': [], 'html': {'*': 'Your edit was patched into the latest version.'}, 'type': 'warning'}]}\n",
      "WARNING: API warning (wbsetclaim) of unknown format: {'messages': [{'name': 'wikibase-conflict-patched', 'parameters': [], 'html': {'*': 'Your edit was patched into the latest version.'}, 'type': 'warning'}]}\n",
      "WARNING: API warning (wbsetclaim) of unknown format: {'messages': [{'name': 'wikibase-conflict-patched', 'parameters': [], 'html': {'*': 'Your edit was patched into the latest version.'}, 'type': 'warning'}]}\n",
      "WARNING: API warning (wbsetclaim) of unknown format: {'messages': [{'name': 'wikibase-conflict-patched', 'parameters': [], 'html': {'*': 'Your edit was patched into the latest version.'}, 'type': 'warning'}]}\n",
      "WARNING: API warning (wbsetclaim) of unknown format: {'messages': [{'name': 'wikibase-conflict-patched', 'parameters': [], 'html': {'*': 'Your edit was patched into the latest version.'}, 'type': 'warning'}]}\n",
      "WARNING: API warning (wbsetclaim) of unknown format: {'messages': [{'name': 'wikibase-conflict-patched', 'parameters': [], 'html': {'*': 'Your edit was patched into the latest version.'}, 'type': 'warning'}]}\n",
      "WARNING: API warning (wbsetclaim) of unknown format: {'messages': [{'name': 'wikibase-conflict-patched', 'parameters': [], 'html': {'*': 'Your edit was patched into the latest version.'}, 'type': 'warning'}]}\n",
      "WARNING: API warning (wbsetclaim) of unknown format: {'messages': [{'name': 'wikibase-conflict-patched', 'parameters': [], 'html': {'*': 'Your edit was patched into the latest version.'}, 'type': 'warning'}]}\n",
      "WARNING: API warning (wbsetclaim) of unknown format: {'messages': [{'name': 'wikibase-conflict-patched', 'parameters': [], 'html': {'*': 'Your edit was patched into the latest version.'}, 'type': 'warning'}]}\n",
      "WARNING: API warning (wbsetclaim) of unknown format: {'messages': [{'name': 'wikibase-conflict-patched', 'parameters': [], 'html': {'*': 'Your edit was patched into the latest version.'}, 'type': 'warning'}]}\n",
      "WARNING: API warning (wbsetclaim) of unknown format: {'messages': [{'name': 'wikibase-conflict-patched', 'parameters': [], 'html': {'*': 'Your edit was patched into the latest version.'}, 'type': 'warning'}]}\n",
      "WARNING: API warning (wbsetclaim) of unknown format: {'messages': [{'name': 'wikibase-conflict-patched', 'parameters': [], 'html': {'*': 'Your edit was patched into the latest version.'}, 'type': 'warning'}]}\n",
      "WARNING: API warning (wbsetclaim) of unknown format: {'messages': [{'name': 'wikibase-conflict-patched', 'parameters': [], 'html': {'*': 'Your edit was patched into the latest version.'}, 'type': 'warning'}]}\n",
      "WARNING: API warning (wbsetclaim) of unknown format: {'messages': [{'name': 'wikibase-conflict-patched', 'parameters': [], 'html': {'*': 'Your edit was patched into the latest version.'}, 'type': 'warning'}]}\n",
      "WARNING: API warning (wbsetclaim) of unknown format: {'messages': [{'name': 'wikibase-conflict-patched', 'parameters': [], 'html': {'*': 'Your edit was patched into the latest version.'}, 'type': 'warning'}]}\n",
      "WARNING: API warning (wbsetclaim) of unknown format: {'messages': [{'name': 'wikibase-conflict-patched', 'parameters': [], 'html': {'*': 'Your edit was patched into the latest version.'}, 'type': 'warning'}]}\n",
      "WARNING: API warning (wbsetclaim) of unknown format: {'messages': [{'name': 'wikibase-conflict-patched', 'parameters': [], 'html': {'*': 'Your edit was patched into the latest version.'}, 'type': 'warning'}]}\n",
      "WARNING: API warning (wbsetclaim) of unknown format: {'messages': [{'name': 'wikibase-conflict-patched', 'parameters': [], 'html': {'*': 'Your edit was patched into the latest version.'}, 'type': 'warning'}]}\n",
      "WARNING: API warning (wbsetclaim) of unknown format: {'messages': [{'name': 'wikibase-conflict-patched', 'parameters': [], 'html': {'*': 'Your edit was patched into the latest version.'}, 'type': 'warning'}]}\n",
      "WARNING: API warning (wbsetclaim) of unknown format: {'messages': [{'name': 'wikibase-conflict-patched', 'parameters': [], 'html': {'*': 'Your edit was patched into the latest version.'}, 'type': 'warning'}]}\n",
      "WARNING: API warning (wbsetclaim) of unknown format: {'messages': [{'name': 'wikibase-conflict-patched', 'parameters': [], 'html': {'*': 'Your edit was patched into the latest version.'}, 'type': 'warning'}]}\n",
      "WARNING: API warning (wbsetclaim) of unknown format: {'messages': [{'name': 'wikibase-conflict-patched', 'parameters': [], 'html': {'*': 'Your edit was patched into the latest version.'}, 'type': 'warning'}]}\n",
      "WARNING: API warning (wbsetclaim) of unknown format: {'messages': [{'name': 'wikibase-conflict-patched', 'parameters': [], 'html': {'*': 'Your edit was patched into the latest version.'}, 'type': 'warning'}]}\n",
      "WARNING: API warning (wbsetclaim) of unknown format: {'messages': [{'name': 'wikibase-conflict-patched', 'parameters': [], 'html': {'*': 'Your edit was patched into the latest version.'}, 'type': 'warning'}]}\n",
      "WARNING: API warning (wbsetclaim) of unknown format: {'messages': [{'name': 'wikibase-conflict-patched', 'parameters': [], 'html': {'*': 'Your edit was patched into the latest version.'}, 'type': 'warning'}]}\n",
      "WARNING: API warning (wbsetclaim) of unknown format: {'messages': [{'name': 'wikibase-conflict-patched', 'parameters': [], 'html': {'*': 'Your edit was patched into the latest version.'}, 'type': 'warning'}]}\n",
      "WARNING: API warning (wbsetclaim) of unknown format: {'messages': [{'name': 'wikibase-conflict-patched', 'parameters': [], 'html': {'*': 'Your edit was patched into the latest version.'}, 'type': 'warning'}]}\n",
      "WARNING: API warning (wbsetclaim) of unknown format: {'messages': [{'name': 'wikibase-conflict-patched', 'parameters': [], 'html': {'*': 'Your edit was patched into the latest version.'}, 'type': 'warning'}]}\n",
      "WARNING: API warning (wbsetclaim) of unknown format: {'messages': [{'name': 'wikibase-conflict-patched', 'parameters': [], 'html': {'*': 'Your edit was patched into the latest version.'}, 'type': 'warning'}]}\n",
      "WARNING: API warning (wbsetclaim) of unknown format: {'messages': [{'name': 'wikibase-conflict-patched', 'parameters': [], 'html': {'*': 'Your edit was patched into the latest version.'}, 'type': 'warning'}]}\n",
      "WARNING: API warning (wbsetclaim) of unknown format: {'messages': [{'name': 'wikibase-conflict-patched', 'parameters': [], 'html': {'*': 'Your edit was patched into the latest version.'}, 'type': 'warning'}]}\n",
      "WARNING: API warning (wbsetclaim) of unknown format: {'messages': [{'name': 'wikibase-conflict-patched', 'parameters': [], 'html': {'*': 'Your edit was patched into the latest version.'}, 'type': 'warning'}]}\n",
      "WARNING: API warning (wbsetclaim) of unknown format: {'messages': [{'name': 'wikibase-conflict-patched', 'parameters': [], 'html': {'*': 'Your edit was patched into the latest version.'}, 'type': 'warning'}]}\n",
      "WARNING: API warning (wbsetclaim) of unknown format: {'messages': [{'name': 'wikibase-conflict-patched', 'parameters': [], 'html': {'*': 'Your edit was patched into the latest version.'}, 'type': 'warning'}]}\n",
      "WARNING: API warning (wbsetclaim) of unknown format: {'messages': [{'name': 'wikibase-conflict-patched', 'parameters': [], 'html': {'*': 'Your edit was patched into the latest version.'}, 'type': 'warning'}]}\n",
      "WARNING: API warning (wbsetclaim) of unknown format: {'messages': [{'name': 'wikibase-conflict-patched', 'parameters': [], 'html': {'*': 'Your edit was patched into the latest version.'}, 'type': 'warning'}]}\n"
     ]
    },
    {
     "data": {
      "text/plain": [
       "[None,\n",
       " None,\n",
       " None,\n",
       " None,\n",
       " None,\n",
       " None,\n",
       " None,\n",
       " None,\n",
       " None,\n",
       " None,\n",
       " None,\n",
       " None,\n",
       " None,\n",
       " None,\n",
       " None,\n",
       " None,\n",
       " None,\n",
       " None,\n",
       " None,\n",
       " None,\n",
       " None,\n",
       " None,\n",
       " None,\n",
       " None,\n",
       " None,\n",
       " None,\n",
       " None,\n",
       " None,\n",
       " None,\n",
       " None,\n",
       " None,\n",
       " None,\n",
       " None,\n",
       " None,\n",
       " None,\n",
       " None,\n",
       " None,\n",
       " None,\n",
       " None,\n",
       " None,\n",
       " None,\n",
       " None,\n",
       " None,\n",
       " None,\n",
       " None,\n",
       " None,\n",
       " None,\n",
       " None,\n",
       " None,\n",
       " None,\n",
       " None,\n",
       " None,\n",
       " None,\n",
       " None,\n",
       " None,\n",
       " None,\n",
       " None,\n",
       " None,\n",
       " None,\n",
       " None,\n",
       " None,\n",
       " None,\n",
       " None,\n",
       " None]"
      ]
     },
     "execution_count": 19,
     "metadata": {},
     "output_type": "execute_result"
    }
   ],
   "source": [
    "bot = WBDC(site_name)\n",
    "conf = {\n",
    "    'uniqueIDProp': 'P13',\n",
    "    'SPARQL_ENDPOINT': os.getenv('SPARQL_ENDPOINT')\n",
    "}\n",
    "bot.set_config(conf)\n",
    "bot.set_mapping_config(mapping_config)\n",
    "await asyncio.gather(*[bot.process(row) for row in res])"
   ]
  },
  {
   "attachments": {},
   "cell_type": "markdown",
   "metadata": {},
   "source": [
    "### Adding a single claim"
   ]
  },
  {
   "attachments": {},
   "cell_type": "markdown",
   "metadata": {},
   "source": [
    "This example shows how to insert a statement into the desired data found within the wikibase. The subset of MRDS will be used, since it was already loaded in an earlier example found in this notebook."
   ]
  },
  {
   "cell_type": "code",
   "execution_count": 20,
   "metadata": {},
   "outputs": [],
   "source": [
    "PATH = f'{conf_filepath}/import_mrds_add_claim.json'\n",
    "with open(PATH, 'r', encoding='utf-8') as f:\n",
    "        mapping_config = json.load(f)"
   ]
  },
  {
   "cell_type": "code",
   "execution_count": 21,
   "metadata": {},
   "outputs": [],
   "source": [
    "bot = WBDC(site_name)\n",
    "conf = {\n",
    "    'uniqueIDProp': 'P13',\n",
    "    'SPARQL_ENDPOINT': os.getenv('SPARQL_ENDPOINT')\n",
    "}\n",
    "bot.set_config(conf)\n",
    "bot.set_mapping_config(mapping_config)\n",
    "\n",
    "FILEPATH = '../../data/mrds_subset.csv'\n",
    "with open(FILEPATH, 'r', encoding='utf-8') as file:\n",
    "    csv_file = csv.reader(file)\n",
    "    next(csv_file)\n",
    "    await asyncio.gather(*[bot.process(row) for row in csv_file])"
   ]
  },
  {
   "attachments": {},
   "cell_type": "markdown",
   "metadata": {},
   "source": [
    "### Retrieving Existing Items in GeoKB and Updating Claims"
   ]
  },
  {
   "attachments": {},
   "cell_type": "markdown",
   "metadata": {},
   "source": [
    "Suppose that there is some existing item pages within the wikibase that you want to update with new information. A way to do this would be to get the items of interest and use the config file to indicate what new information will be inserted. "
   ]
  },
  {
   "attachments": {},
   "cell_type": "markdown",
   "metadata": {},
   "source": [
    "These two examples show two approaches to inserting the new data:\n",
    "* Use the results given by the SPARQL query to insert a literal value found in the mapping config file\n",
    "* Append another column of new information to the SPARQL query results using Pandas and process the new column by the index\n",
    "\n",
    "Before we can show how to process the data, we first need to extract the items of interest. To do this, the following needs to be set."
   ]
  },
  {
   "cell_type": "code",
   "execution_count": 22,
   "metadata": {},
   "outputs": [
    {
     "name": "stdout",
     "output_type": "stream",
     "text": [
      "\n",
      "SELECT DISTINCT ?item ?itemLabel ?itemDescription ?itemAltLabel WHERE \n",
      "{\n",
      "  ?item wdt:P13 ?uniqueid  . \n",
      "   SERVICE wikibase:label { bd:serviceParam wikibase:language \"en\". }\n",
      "}\n",
      "\n",
      "LIMIT 20\n",
      "\n"
     ]
    }
   ],
   "source": [
    "sparql_endpoint = os.getenv('SPARQL_ENDPOINT')\n",
    "unique_id_prop = 'P13'\n",
    "\n",
    "query = \"\"\"\n",
    "SELECT DISTINCT ?item ?itemLabel ?itemDescription ?itemAltLabel WHERE \n",
    "{\n",
    "  ?item wdt:\"\"\"+unique_id_prop+\"\"\" ?uniqueid  . \n",
    "   SERVICE wikibase:label { bd:serviceParam wikibase:language \"en\". }\n",
    "}\n",
    "\n",
    "LIMIT 20\n",
    "\"\"\"\n",
    "print(query)\n"
   ]
  },
  {
   "attachments": {},
   "cell_type": "markdown",
   "metadata": {},
   "source": [
    "For ease of use, the SPARQLWrapper library is used to send the query to the endpoint. This has the advantage of parsing out a multiple line SPARQL query, which throws an error when using the standard `requests` library."
   ]
  },
  {
   "cell_type": "code",
   "execution_count": 23,
   "metadata": {},
   "outputs": [],
   "source": [
    "from SPARQLWrapper import SPARQLWrapper, JSON\n",
    "\n",
    "sparql = SPARQLWrapper(sparql_endpoint)\n",
    "\n",
    "sparql.setReturnFormat(JSON)\n",
    "sparql.setQuery(query)\n",
    "res = sparql.queryAndConvert()\n"
   ]
  },
  {
   "attachments": {},
   "cell_type": "markdown",
   "metadata": {},
   "source": [
    "Now that the response is successful, the JSON will be parsed into a tabular format for processing."
   ]
  },
  {
   "cell_type": "code",
   "execution_count": 24,
   "metadata": {},
   "outputs": [],
   "source": [
    "table = []\n",
    "bindings = res['results']['bindings']\n",
    "header = list(bindings[0].keys())\n",
    "for binding in bindings:\n",
    "    row = []\n",
    "    for _, val in binding.items():\n",
    "        row.append(val['value'])\n",
    "    table.append(row)\n"
   ]
  },
  {
   "attachments": {},
   "cell_type": "markdown",
   "metadata": {},
   "source": [
    "This first approach will be to add a literal value specified within the mapping config file."
   ]
  },
  {
   "cell_type": "code",
   "execution_count": 25,
   "metadata": {},
   "outputs": [],
   "source": [
    "bot = WBDC(site_name)\n",
    "\n",
    "conf = {\n",
    "    'uniqueIDProp': unique_id_prop,\n",
    "    'SPARQL_ENDPOINT': sparql_endpoint\n",
    "}\n",
    "bot.set_config(conf)\n"
   ]
  },
  {
   "cell_type": "code",
   "execution_count": 26,
   "metadata": {},
   "outputs": [],
   "source": [
    "PATH = f'{conf_filepath}/import_claim_with_sparql_literal.json'\n",
    "with open(PATH, 'r', encoding='utf-8') as f:\n",
    "        mapping_config = json.load(f)\n",
    "        bot.set_mapping_config(mapping_config)\n",
    "        await asyncio.gather(*[bot.process(row) for row in table])"
   ]
  },
  {
   "attachments": {},
   "cell_type": "markdown",
   "metadata": {},
   "source": [
    "Another method that can be used is to utilize Pandas to append new columns with their corresponding information, and process that back into the GeoKB by indexing the new columns within the mapping config file."
   ]
  },
  {
   "cell_type": "code",
   "execution_count": 27,
   "metadata": {},
   "outputs": [],
   "source": [
    "import pandas as pd\n",
    "df = pd.DataFrame(table, columns=header)"
   ]
  },
  {
   "cell_type": "code",
   "execution_count": 28,
   "metadata": {},
   "outputs": [],
   "source": [
    "df['added_claim'] = 'this is an added statement'"
   ]
  },
  {
   "cell_type": "code",
   "execution_count": 29,
   "metadata": {},
   "outputs": [
    {
     "data": {
      "text/html": [
       "<div>\n",
       "<style scoped>\n",
       "    .dataframe tbody tr th:only-of-type {\n",
       "        vertical-align: middle;\n",
       "    }\n",
       "\n",
       "    .dataframe tbody tr th {\n",
       "        vertical-align: top;\n",
       "    }\n",
       "\n",
       "    .dataframe thead th {\n",
       "        text-align: right;\n",
       "    }\n",
       "</style>\n",
       "<table border=\"1\" class=\"dataframe\">\n",
       "  <thead>\n",
       "    <tr style=\"text-align: right;\">\n",
       "      <th></th>\n",
       "      <th>item</th>\n",
       "      <th>itemLabel</th>\n",
       "      <th>itemDescription</th>\n",
       "      <th>itemAltLabel</th>\n",
       "      <th>added_claim</th>\n",
       "    </tr>\n",
       "  </thead>\n",
       "  <tbody>\n",
       "    <tr>\n",
       "      <th>0</th>\n",
       "      <td>http://wiki.demo5280.com/entity/Q57</td>\n",
       "      <td>Lookout Prospect</td>\n",
       "      <td>this is the desc</td>\n",
       "      <td>Conundrum, Mammoth, Wakefield Minerals Co.</td>\n",
       "      <td>this is an added statement</td>\n",
       "    </tr>\n",
       "    <tr>\n",
       "      <th>1</th>\n",
       "      <td>http://wiki.demo5280.com/entity/Q62</td>\n",
       "      <td>Marion Prospect</td>\n",
       "      <td>this is the desc</td>\n",
       "      <td>Nutqua Gold Mining Co.</td>\n",
       "      <td>this is an added statement</td>\n",
       "    </tr>\n",
       "    <tr>\n",
       "      <th>2</th>\n",
       "      <td>http://wiki.demo5280.com/entity/Q59</td>\n",
       "      <td>LAKE</td>\n",
       "      <td>this is the desc</td>\n",
       "      <td>Claims: Horseshoe, Copper, Lake Bay</td>\n",
       "      <td>this is an added statement</td>\n",
       "    </tr>\n",
       "    <tr>\n",
       "      <th>3</th>\n",
       "      <td>http://wiki.demo5280.com/entity/Q58</td>\n",
       "      <td>Lucky Find Prospect</td>\n",
       "      <td>this is the desc</td>\n",
       "      <td>None</td>\n",
       "      <td>this is an added statement</td>\n",
       "    </tr>\n",
       "    <tr>\n",
       "      <th>4</th>\n",
       "      <td>http://wiki.demo5280.com/entity/Q63</td>\n",
       "      <td>Marble Heart Prospect</td>\n",
       "      <td>this is the desc</td>\n",
       "      <td>None</td>\n",
       "      <td>this is an added statement</td>\n",
       "    </tr>\n",
       "    <tr>\n",
       "      <th>5</th>\n",
       "      <td>http://wiki.demo5280.com/entity/Q60</td>\n",
       "      <td>Lucky Jim Claim</td>\n",
       "      <td>this is the desc</td>\n",
       "      <td>None</td>\n",
       "      <td>this is an added statement</td>\n",
       "    </tr>\n",
       "    <tr>\n",
       "      <th>6</th>\n",
       "      <td>http://wiki.demo5280.com/entity/Q61</td>\n",
       "      <td>Matilda Occurrence</td>\n",
       "      <td>this is the desc</td>\n",
       "      <td>None</td>\n",
       "      <td>this is an added statement</td>\n",
       "    </tr>\n",
       "    <tr>\n",
       "      <th>7</th>\n",
       "      <td>http://wiki.demo5280.com/entity/Q66</td>\n",
       "      <td>Miller Brothers Claim</td>\n",
       "      <td>this is the desc</td>\n",
       "      <td>None</td>\n",
       "      <td>this is an added statement</td>\n",
       "    </tr>\n",
       "    <tr>\n",
       "      <th>8</th>\n",
       "      <td>http://wiki.demo5280.com/entity/Q64</td>\n",
       "      <td>Morning Star Prospect</td>\n",
       "      <td>this is the desc</td>\n",
       "      <td>None</td>\n",
       "      <td>this is an added statement</td>\n",
       "    </tr>\n",
       "    <tr>\n",
       "      <th>9</th>\n",
       "      <td>http://wiki.demo5280.com/entity/Q65</td>\n",
       "      <td>Monday Prospect</td>\n",
       "      <td>this is the desc</td>\n",
       "      <td>None</td>\n",
       "      <td>this is an added statement</td>\n",
       "    </tr>\n",
       "  </tbody>\n",
       "</table>\n",
       "</div>"
      ],
      "text/plain": [
       "                                  item              itemLabel  \\\n",
       "0  http://wiki.demo5280.com/entity/Q57       Lookout Prospect   \n",
       "1  http://wiki.demo5280.com/entity/Q62        Marion Prospect   \n",
       "2  http://wiki.demo5280.com/entity/Q59                   LAKE   \n",
       "3  http://wiki.demo5280.com/entity/Q58    Lucky Find Prospect   \n",
       "4  http://wiki.demo5280.com/entity/Q63  Marble Heart Prospect   \n",
       "5  http://wiki.demo5280.com/entity/Q60        Lucky Jim Claim   \n",
       "6  http://wiki.demo5280.com/entity/Q61     Matilda Occurrence   \n",
       "7  http://wiki.demo5280.com/entity/Q66  Miller Brothers Claim   \n",
       "8  http://wiki.demo5280.com/entity/Q64  Morning Star Prospect   \n",
       "9  http://wiki.demo5280.com/entity/Q65        Monday Prospect   \n",
       "\n",
       "    itemDescription                                itemAltLabel  \\\n",
       "0  this is the desc  Conundrum, Mammoth, Wakefield Minerals Co.   \n",
       "1  this is the desc                      Nutqua Gold Mining Co.   \n",
       "2  this is the desc         Claims: Horseshoe, Copper, Lake Bay   \n",
       "3  this is the desc                                        None   \n",
       "4  this is the desc                                        None   \n",
       "5  this is the desc                                        None   \n",
       "6  this is the desc                                        None   \n",
       "7  this is the desc                                        None   \n",
       "8  this is the desc                                        None   \n",
       "9  this is the desc                                        None   \n",
       "\n",
       "                  added_claim  \n",
       "0  this is an added statement  \n",
       "1  this is an added statement  \n",
       "2  this is an added statement  \n",
       "3  this is an added statement  \n",
       "4  this is an added statement  \n",
       "5  this is an added statement  \n",
       "6  this is an added statement  \n",
       "7  this is an added statement  \n",
       "8  this is an added statement  \n",
       "9  this is an added statement  "
      ]
     },
     "execution_count": 29,
     "metadata": {},
     "output_type": "execute_result"
    }
   ],
   "source": [
    "df"
   ]
  },
  {
   "cell_type": "code",
   "execution_count": 30,
   "metadata": {},
   "outputs": [],
   "source": [
    "PATH = f'{conf_filepath}/import_claim_with_sparql.json'\n",
    "with open(PATH, 'r', encoding='utf-8') as f:\n",
    "        mapping_config = json.load(f)"
   ]
  },
  {
   "cell_type": "code",
   "execution_count": 31,
   "metadata": {},
   "outputs": [],
   "source": [
    "bot = WBDC(site_name)\n",
    "conf = {\n",
    "    'uniqueIDProp': unique_id_prop,\n",
    "    'SPARQL_ENDPOINT': sparql_endpoint\n",
    "}\n",
    "bot.set_config(conf)\n",
    "bot.set_mapping_config(mapping_config)\n"
   ]
  },
  {
   "attachments": {},
   "cell_type": "markdown",
   "metadata": {},
   "source": [
    "Since a DataFrame is being passed in this example, a different approach is used since usually Pandas doesn't recommend iterating rows."
   ]
  },
  {
   "cell_type": "code",
   "execution_count": 32,
   "metadata": {},
   "outputs": [
    {
     "data": {
      "text/plain": [
       "[None, None, None, None, None, None, None, None, None, None]"
      ]
     },
     "execution_count": 32,
     "metadata": {},
     "output_type": "execute_result"
    }
   ],
   "source": [
    "await asyncio.gather(*df.apply(lambda df_row: bot.process(df_row), raw=True, axis=1))"
   ]
  }
 ],
 "metadata": {
  "kernelspec": {
   "display_name": "base",
   "language": "python",
   "name": "python3"
  },
  "language_info": {
   "codemirror_mode": {
    "name": "ipython",
    "version": 3
   },
   "file_extension": ".py",
   "mimetype": "text/x-python",
   "name": "python",
   "nbconvert_exporter": "python",
   "pygments_lexer": "ipython3",
   "version": "3.9.12"
  },
  "orig_nbformat": 4,
  "vscode": {
   "interpreter": {
    "hash": "7fccb8f514a477f99873ab032707b5eaf5a5a0f45031ae1eed33da7f7f165ef4"
   }
  }
 },
 "nbformat": 4,
 "nbformat_minor": 2
}
